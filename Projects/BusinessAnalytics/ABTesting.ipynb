{
 "cells": [
  {
   "cell_type": "markdown",
   "id": "98b19221",
   "metadata": {},
   "source": [
    "# Case Study\n",
    "\n",
    "### Experiment I\n",
    "Audacity is conducting an A/B test on their homepage to assess the impact of a more engaging design aimed at increasing user exploration of their courses and progression to the next stage of the funnel. The click-through rate (CTR) metric will be used to evaluate the effectiveness of the design changes on the \"Explore Courses\" button. The outcome of the A/B test will inform the decision to implement the changes or maintain the current design. \n",
    "\n",
    "### Experiment II\n",
    "\n",
    "Audacity's second A/B test focuses on the course overview page, where they plan to add a more career-focused description to potentially increase course enrollment and completion rates. Multiple metrics, including Enrollment Rate, Average Reading Duration, Average Classroom Time, and Completion Rate, will be analyzed individually to assess the statistical significance of observed differences. To ensure a robust conclusion, the Bonferroni Correction will be applied, adjusting the alpha value by dividing it by the number of tests conducted. However, considering potential correlations among metrics, more advanced methods like the closed testing procedure, Boole-Bonferroni bound, or the Holm-Bonferroni method may be explored for a comprehensive analysis.\n",
    "\n",
    "\n"
   ]
  },
  {
   "cell_type": "markdown",
   "id": "2d9dcb1b",
   "metadata": {},
   "source": [
    "Three data sets are used to conduct the study:\n",
    "- homepage_actions.csv\n",
    "- course_page_actions.csv\n",
    "- classroom_actions.csv\n"
   ]
  },
  {
   "cell_type": "markdown",
   "id": "f05268cf",
   "metadata": {},
   "source": [
    "## Packages"
   ]
  },
  {
   "cell_type": "code",
   "execution_count": 1,
   "id": "fbd18999",
   "metadata": {},
   "outputs": [],
   "source": [
    "!pip install nb_black > /dev/null 2>&1"
   ]
  },
  {
   "cell_type": "code",
   "execution_count": null,
   "id": "6eb8d38c",
   "metadata": {},
   "outputs": [],
   "source": []
  },
  {
   "cell_type": "code",
   "execution_count": 2,
   "id": "630f5153",
   "metadata": {
    "scrolled": true
   },
   "outputs": [
    {
     "data": {
      "application/javascript": [
       "\n",
       "            setTimeout(function() {\n",
       "                var nbb_cell_id = 2;\n",
       "                var nbb_unformatted_code = \"import warnings\\nwarnings.filterwarnings(\\\"ignore\\\")\\nimport pandas as pd\\nfrom datetime import datetime as dt\\nimport matplotlib.pyplot as plt\\nimport numpy as np\\n%reload_ext nb_black\\n# np.random.seed(42) # In order to get the same random numbers in each run\\n%matplotlib inline\";\n",
       "                var nbb_formatted_code = \"import warnings\\n\\nwarnings.filterwarnings(\\\"ignore\\\")\\nimport pandas as pd\\nfrom datetime import datetime as dt\\nimport matplotlib.pyplot as plt\\nimport numpy as np\\n\\n%reload_ext nb_black\\n# np.random.seed(42) # In order to get the same random numbers in each run\\n%matplotlib inline\";\n",
       "                var nbb_cells = Jupyter.notebook.get_cells();\n",
       "                for (var i = 0; i < nbb_cells.length; ++i) {\n",
       "                    if (nbb_cells[i].input_prompt_number == nbb_cell_id) {\n",
       "                        if (nbb_cells[i].get_text() == nbb_unformatted_code) {\n",
       "                             nbb_cells[i].set_text(nbb_formatted_code);\n",
       "                        }\n",
       "                        break;\n",
       "                    }\n",
       "                }\n",
       "            }, 500);\n",
       "            "
      ],
      "text/plain": [
       "<IPython.core.display.Javascript object>"
      ]
     },
     "metadata": {},
     "output_type": "display_data"
    }
   ],
   "source": [
    "import warnings\n",
    "\n",
    "warnings.filterwarnings(\"ignore\")\n",
    "import pandas as pd\n",
    "from datetime import datetime as dt\n",
    "import matplotlib.pyplot as plt\n",
    "import numpy as np\n",
    "\n",
    "%reload_ext nb_black\n",
    "# np.random.seed(42) # In order to get the same random numbers in each run\n",
    "%matplotlib inline"
   ]
  },
  {
   "cell_type": "markdown",
   "id": "dd9e6316",
   "metadata": {},
   "source": [
    "### 1. Data Exploration"
   ]
  },
  {
   "cell_type": "code",
   "execution_count": 3,
   "id": "a14809ec",
   "metadata": {
    "scrolled": true
   },
   "outputs": [
    {
     "data": {
      "text/html": [
       "<div>\n",
       "<style scoped>\n",
       "    .dataframe tbody tr th:only-of-type {\n",
       "        vertical-align: middle;\n",
       "    }\n",
       "\n",
       "    .dataframe tbody tr th {\n",
       "        vertical-align: top;\n",
       "    }\n",
       "\n",
       "    .dataframe thead th {\n",
       "        text-align: right;\n",
       "    }\n",
       "</style>\n",
       "<table border=\"1\" class=\"dataframe\">\n",
       "  <thead>\n",
       "    <tr style=\"text-align: right;\">\n",
       "      <th></th>\n",
       "      <th>timestamp</th>\n",
       "      <th>id</th>\n",
       "      <th>group</th>\n",
       "      <th>action</th>\n",
       "    </tr>\n",
       "  </thead>\n",
       "  <tbody>\n",
       "    <tr>\n",
       "      <th>0</th>\n",
       "      <td>2016-09-24 17:42:27.839496</td>\n",
       "      <td>804196</td>\n",
       "      <td>experiment</td>\n",
       "      <td>view</td>\n",
       "    </tr>\n",
       "    <tr>\n",
       "      <th>1</th>\n",
       "      <td>2016-09-24 19:19:03.542569</td>\n",
       "      <td>434745</td>\n",
       "      <td>experiment</td>\n",
       "      <td>view</td>\n",
       "    </tr>\n",
       "    <tr>\n",
       "      <th>2</th>\n",
       "      <td>2016-09-24 19:36:00.944135</td>\n",
       "      <td>507599</td>\n",
       "      <td>experiment</td>\n",
       "      <td>view</td>\n",
       "    </tr>\n",
       "    <tr>\n",
       "      <th>3</th>\n",
       "      <td>2016-09-24 19:59:02.646620</td>\n",
       "      <td>671993</td>\n",
       "      <td>control</td>\n",
       "      <td>view</td>\n",
       "    </tr>\n",
       "    <tr>\n",
       "      <th>4</th>\n",
       "      <td>2016-09-24 20:26:14.466886</td>\n",
       "      <td>536734</td>\n",
       "      <td>experiment</td>\n",
       "      <td>view</td>\n",
       "    </tr>\n",
       "  </tbody>\n",
       "</table>\n",
       "</div>"
      ],
      "text/plain": [
       "                    timestamp      id       group action\n",
       "0  2016-09-24 17:42:27.839496  804196  experiment   view\n",
       "1  2016-09-24 19:19:03.542569  434745  experiment   view\n",
       "2  2016-09-24 19:36:00.944135  507599  experiment   view\n",
       "3  2016-09-24 19:59:02.646620  671993     control   view\n",
       "4  2016-09-24 20:26:14.466886  536734  experiment   view"
      ]
     },
     "execution_count": 3,
     "metadata": {},
     "output_type": "execute_result"
    },
    {
     "data": {
      "application/javascript": [
       "\n",
       "            setTimeout(function() {\n",
       "                var nbb_cell_id = 3;\n",
       "                var nbb_unformatted_code = \"df1 = pd.read_csv(\\\"homepage_actions.csv\\\")\\ndf1.head()\";\n",
       "                var nbb_formatted_code = \"df1 = pd.read_csv(\\\"homepage_actions.csv\\\")\\ndf1.head()\";\n",
       "                var nbb_cells = Jupyter.notebook.get_cells();\n",
       "                for (var i = 0; i < nbb_cells.length; ++i) {\n",
       "                    if (nbb_cells[i].input_prompt_number == nbb_cell_id) {\n",
       "                        if (nbb_cells[i].get_text() == nbb_unformatted_code) {\n",
       "                             nbb_cells[i].set_text(nbb_formatted_code);\n",
       "                        }\n",
       "                        break;\n",
       "                    }\n",
       "                }\n",
       "            }, 500);\n",
       "            "
      ],
      "text/plain": [
       "<IPython.core.display.Javascript object>"
      ]
     },
     "metadata": {},
     "output_type": "display_data"
    }
   ],
   "source": [
    "df1 = pd.read_csv(\"homepage_actions.csv\")\n",
    "df1.head()"
   ]
  },
  {
   "cell_type": "code",
   "execution_count": 4,
   "id": "3538b724",
   "metadata": {
    "scrolled": true
   },
   "outputs": [
    {
     "name": "stdout",
     "output_type": "stream",
     "text": [
      "<class 'pandas.core.frame.DataFrame'>\n",
      "RangeIndex: 8188 entries, 0 to 8187\n",
      "Data columns (total 4 columns):\n",
      " #   Column     Non-Null Count  Dtype \n",
      "---  ------     --------------  ----- \n",
      " 0   timestamp  8188 non-null   object\n",
      " 1   id         8188 non-null   int64 \n",
      " 2   group      8188 non-null   object\n",
      " 3   action     8188 non-null   object\n",
      "dtypes: int64(1), object(3)\n",
      "memory usage: 256.0+ KB\n"
     ]
    },
    {
     "data": {
      "application/javascript": [
       "\n",
       "            setTimeout(function() {\n",
       "                var nbb_cell_id = 4;\n",
       "                var nbb_unformatted_code = \"df1.info()\";\n",
       "                var nbb_formatted_code = \"df1.info()\";\n",
       "                var nbb_cells = Jupyter.notebook.get_cells();\n",
       "                for (var i = 0; i < nbb_cells.length; ++i) {\n",
       "                    if (nbb_cells[i].input_prompt_number == nbb_cell_id) {\n",
       "                        if (nbb_cells[i].get_text() == nbb_unformatted_code) {\n",
       "                             nbb_cells[i].set_text(nbb_formatted_code);\n",
       "                        }\n",
       "                        break;\n",
       "                    }\n",
       "                }\n",
       "            }, 500);\n",
       "            "
      ],
      "text/plain": [
       "<IPython.core.display.Javascript object>"
      ]
     },
     "metadata": {},
     "output_type": "display_data"
    }
   ],
   "source": [
    "df1.info()"
   ]
  },
  {
   "cell_type": "code",
   "execution_count": 5,
   "id": "54a2ecb8",
   "metadata": {
    "scrolled": false
   },
   "outputs": [
    {
     "data": {
      "text/plain": [
       "timestamp    0\n",
       "id           0\n",
       "group        0\n",
       "action       0\n",
       "dtype: int64"
      ]
     },
     "execution_count": 5,
     "metadata": {},
     "output_type": "execute_result"
    },
    {
     "data": {
      "application/javascript": [
       "\n",
       "            setTimeout(function() {\n",
       "                var nbb_cell_id = 5;\n",
       "                var nbb_unformatted_code = \"df1.isnull().sum()\";\n",
       "                var nbb_formatted_code = \"df1.isnull().sum()\";\n",
       "                var nbb_cells = Jupyter.notebook.get_cells();\n",
       "                for (var i = 0; i < nbb_cells.length; ++i) {\n",
       "                    if (nbb_cells[i].input_prompt_number == nbb_cell_id) {\n",
       "                        if (nbb_cells[i].get_text() == nbb_unformatted_code) {\n",
       "                             nbb_cells[i].set_text(nbb_formatted_code);\n",
       "                        }\n",
       "                        break;\n",
       "                    }\n",
       "                }\n",
       "            }, 500);\n",
       "            "
      ],
      "text/plain": [
       "<IPython.core.display.Javascript object>"
      ]
     },
     "metadata": {},
     "output_type": "display_data"
    }
   ],
   "source": [
    "df1.isnull().sum()"
   ]
  },
  {
   "cell_type": "code",
   "execution_count": 6,
   "id": "e045245d",
   "metadata": {},
   "outputs": [
    {
     "data": {
      "text/html": [
       "<div>\n",
       "<style scoped>\n",
       "    .dataframe tbody tr th:only-of-type {\n",
       "        vertical-align: middle;\n",
       "    }\n",
       "\n",
       "    .dataframe tbody tr th {\n",
       "        vertical-align: top;\n",
       "    }\n",
       "\n",
       "    .dataframe thead th {\n",
       "        text-align: right;\n",
       "    }\n",
       "</style>\n",
       "<table border=\"1\" class=\"dataframe\">\n",
       "  <thead>\n",
       "    <tr style=\"text-align: right;\">\n",
       "      <th></th>\n",
       "      <th>id</th>\n",
       "    </tr>\n",
       "  </thead>\n",
       "  <tbody>\n",
       "    <tr>\n",
       "      <th>count</th>\n",
       "      <td>8188.00</td>\n",
       "    </tr>\n",
       "    <tr>\n",
       "      <th>mean</th>\n",
       "      <td>564699.75</td>\n",
       "    </tr>\n",
       "    <tr>\n",
       "      <th>std</th>\n",
       "      <td>219085.85</td>\n",
       "    </tr>\n",
       "    <tr>\n",
       "      <th>min</th>\n",
       "      <td>182988.00</td>\n",
       "    </tr>\n",
       "    <tr>\n",
       "      <th>25%</th>\n",
       "      <td>373637.50</td>\n",
       "    </tr>\n",
       "    <tr>\n",
       "      <th>50%</th>\n",
       "      <td>566840.50</td>\n",
       "    </tr>\n",
       "    <tr>\n",
       "      <th>75%</th>\n",
       "      <td>758078.00</td>\n",
       "    </tr>\n",
       "    <tr>\n",
       "      <th>max</th>\n",
       "      <td>937217.00</td>\n",
       "    </tr>\n",
       "  </tbody>\n",
       "</table>\n",
       "</div>"
      ],
      "text/plain": [
       "              id\n",
       "count    8188.00\n",
       "mean   564699.75\n",
       "std    219085.85\n",
       "min    182988.00\n",
       "25%    373637.50\n",
       "50%    566840.50\n",
       "75%    758078.00\n",
       "max    937217.00"
      ]
     },
     "execution_count": 6,
     "metadata": {},
     "output_type": "execute_result"
    },
    {
     "data": {
      "application/javascript": [
       "\n",
       "            setTimeout(function() {\n",
       "                var nbb_cell_id = 6;\n",
       "                var nbb_unformatted_code = \"df1[df1.columns].describe().round(2)\";\n",
       "                var nbb_formatted_code = \"df1[df1.columns].describe().round(2)\";\n",
       "                var nbb_cells = Jupyter.notebook.get_cells();\n",
       "                for (var i = 0; i < nbb_cells.length; ++i) {\n",
       "                    if (nbb_cells[i].input_prompt_number == nbb_cell_id) {\n",
       "                        if (nbb_cells[i].get_text() == nbb_unformatted_code) {\n",
       "                             nbb_cells[i].set_text(nbb_formatted_code);\n",
       "                        }\n",
       "                        break;\n",
       "                    }\n",
       "                }\n",
       "            }, 500);\n",
       "            "
      ],
      "text/plain": [
       "<IPython.core.display.Javascript object>"
      ]
     },
     "metadata": {},
     "output_type": "display_data"
    }
   ],
   "source": [
    "df1[df1.columns].describe().round(2)"
   ]
  },
  {
   "cell_type": "code",
   "execution_count": 7,
   "id": "ff4ceeee",
   "metadata": {
    "scrolled": true
   },
   "outputs": [
    {
     "data": {
      "text/html": [
       "<div>\n",
       "<style scoped>\n",
       "    .dataframe tbody tr th:only-of-type {\n",
       "        vertical-align: middle;\n",
       "    }\n",
       "\n",
       "    .dataframe tbody tr th {\n",
       "        vertical-align: top;\n",
       "    }\n",
       "\n",
       "    .dataframe thead th {\n",
       "        text-align: right;\n",
       "    }\n",
       "</style>\n",
       "<table border=\"1\" class=\"dataframe\">\n",
       "  <thead>\n",
       "    <tr style=\"text-align: right;\">\n",
       "      <th></th>\n",
       "      <th>timestamp</th>\n",
       "      <th>id</th>\n",
       "      <th>group</th>\n",
       "      <th>action</th>\n",
       "      <th>duration</th>\n",
       "    </tr>\n",
       "  </thead>\n",
       "  <tbody>\n",
       "    <tr>\n",
       "      <th>0</th>\n",
       "      <td>2016-09-24 17:14:52.012145</td>\n",
       "      <td>261869</td>\n",
       "      <td>experiment</td>\n",
       "      <td>view</td>\n",
       "      <td>130.545004</td>\n",
       "    </tr>\n",
       "    <tr>\n",
       "      <th>1</th>\n",
       "      <td>2016-09-24 18:45:09.645857</td>\n",
       "      <td>226546</td>\n",
       "      <td>experiment</td>\n",
       "      <td>view</td>\n",
       "      <td>159.862440</td>\n",
       "    </tr>\n",
       "    <tr>\n",
       "      <th>2</th>\n",
       "      <td>2016-09-24 19:16:21.002533</td>\n",
       "      <td>286353</td>\n",
       "      <td>experiment</td>\n",
       "      <td>view</td>\n",
       "      <td>79.349315</td>\n",
       "    </tr>\n",
       "    <tr>\n",
       "      <th>3</th>\n",
       "      <td>2016-09-24 19:43:06.927785</td>\n",
       "      <td>842279</td>\n",
       "      <td>experiment</td>\n",
       "      <td>view</td>\n",
       "      <td>55.536126</td>\n",
       "    </tr>\n",
       "    <tr>\n",
       "      <th>4</th>\n",
       "      <td>2016-09-24 21:08:22.790333</td>\n",
       "      <td>781883</td>\n",
       "      <td>experiment</td>\n",
       "      <td>view</td>\n",
       "      <td>204.322437</td>\n",
       "    </tr>\n",
       "  </tbody>\n",
       "</table>\n",
       "</div>"
      ],
      "text/plain": [
       "                    timestamp      id       group action    duration\n",
       "0  2016-09-24 17:14:52.012145  261869  experiment   view  130.545004\n",
       "1  2016-09-24 18:45:09.645857  226546  experiment   view  159.862440\n",
       "2  2016-09-24 19:16:21.002533  286353  experiment   view   79.349315\n",
       "3  2016-09-24 19:43:06.927785  842279  experiment   view   55.536126\n",
       "4  2016-09-24 21:08:22.790333  781883  experiment   view  204.322437"
      ]
     },
     "execution_count": 7,
     "metadata": {},
     "output_type": "execute_result"
    },
    {
     "data": {
      "application/javascript": [
       "\n",
       "            setTimeout(function() {\n",
       "                var nbb_cell_id = 7;\n",
       "                var nbb_unformatted_code = \"df2 = pd.read_csv(\\\"course_page_actions.csv\\\")\\ndf2.head()\";\n",
       "                var nbb_formatted_code = \"df2 = pd.read_csv(\\\"course_page_actions.csv\\\")\\ndf2.head()\";\n",
       "                var nbb_cells = Jupyter.notebook.get_cells();\n",
       "                for (var i = 0; i < nbb_cells.length; ++i) {\n",
       "                    if (nbb_cells[i].input_prompt_number == nbb_cell_id) {\n",
       "                        if (nbb_cells[i].get_text() == nbb_unformatted_code) {\n",
       "                             nbb_cells[i].set_text(nbb_formatted_code);\n",
       "                        }\n",
       "                        break;\n",
       "                    }\n",
       "                }\n",
       "            }, 500);\n",
       "            "
      ],
      "text/plain": [
       "<IPython.core.display.Javascript object>"
      ]
     },
     "metadata": {},
     "output_type": "display_data"
    }
   ],
   "source": [
    "df2 = pd.read_csv(\"course_page_actions.csv\")\n",
    "df2.head()"
   ]
  },
  {
   "cell_type": "code",
   "execution_count": 8,
   "id": "205f3b51",
   "metadata": {
    "scrolled": false
   },
   "outputs": [
    {
     "name": "stdout",
     "output_type": "stream",
     "text": [
      "<class 'pandas.core.frame.DataFrame'>\n",
      "RangeIndex: 4074 entries, 0 to 4073\n",
      "Data columns (total 5 columns):\n",
      " #   Column     Non-Null Count  Dtype  \n",
      "---  ------     --------------  -----  \n",
      " 0   timestamp  4074 non-null   object \n",
      " 1   id         4074 non-null   int64  \n",
      " 2   group      4074 non-null   object \n",
      " 3   action     4074 non-null   object \n",
      " 4   duration   4049 non-null   float64\n",
      "dtypes: float64(1), int64(1), object(3)\n",
      "memory usage: 159.3+ KB\n"
     ]
    },
    {
     "data": {
      "application/javascript": [
       "\n",
       "            setTimeout(function() {\n",
       "                var nbb_cell_id = 8;\n",
       "                var nbb_unformatted_code = \"df2.info()\";\n",
       "                var nbb_formatted_code = \"df2.info()\";\n",
       "                var nbb_cells = Jupyter.notebook.get_cells();\n",
       "                for (var i = 0; i < nbb_cells.length; ++i) {\n",
       "                    if (nbb_cells[i].input_prompt_number == nbb_cell_id) {\n",
       "                        if (nbb_cells[i].get_text() == nbb_unformatted_code) {\n",
       "                             nbb_cells[i].set_text(nbb_formatted_code);\n",
       "                        }\n",
       "                        break;\n",
       "                    }\n",
       "                }\n",
       "            }, 500);\n",
       "            "
      ],
      "text/plain": [
       "<IPython.core.display.Javascript object>"
      ]
     },
     "metadata": {},
     "output_type": "display_data"
    }
   ],
   "source": [
    "df2.info()"
   ]
  },
  {
   "cell_type": "code",
   "execution_count": 9,
   "id": "5f4921aa",
   "metadata": {},
   "outputs": [
    {
     "data": {
      "text/plain": [
       "timestamp     0\n",
       "id            0\n",
       "group         0\n",
       "action        0\n",
       "duration     25\n",
       "dtype: int64"
      ]
     },
     "execution_count": 9,
     "metadata": {},
     "output_type": "execute_result"
    },
    {
     "data": {
      "application/javascript": [
       "\n",
       "            setTimeout(function() {\n",
       "                var nbb_cell_id = 9;\n",
       "                var nbb_unformatted_code = \"df2.isnull().sum()\";\n",
       "                var nbb_formatted_code = \"df2.isnull().sum()\";\n",
       "                var nbb_cells = Jupyter.notebook.get_cells();\n",
       "                for (var i = 0; i < nbb_cells.length; ++i) {\n",
       "                    if (nbb_cells[i].input_prompt_number == nbb_cell_id) {\n",
       "                        if (nbb_cells[i].get_text() == nbb_unformatted_code) {\n",
       "                             nbb_cells[i].set_text(nbb_formatted_code);\n",
       "                        }\n",
       "                        break;\n",
       "                    }\n",
       "                }\n",
       "            }, 500);\n",
       "            "
      ],
      "text/plain": [
       "<IPython.core.display.Javascript object>"
      ]
     },
     "metadata": {},
     "output_type": "display_data"
    }
   ],
   "source": [
    "df2.isnull().sum()"
   ]
  },
  {
   "cell_type": "code",
   "execution_count": 10,
   "id": "cfab0d52",
   "metadata": {},
   "outputs": [
    {
     "data": {
      "text/html": [
       "<div>\n",
       "<style scoped>\n",
       "    .dataframe tbody tr th:only-of-type {\n",
       "        vertical-align: middle;\n",
       "    }\n",
       "\n",
       "    .dataframe tbody tr th {\n",
       "        vertical-align: top;\n",
       "    }\n",
       "\n",
       "    .dataframe thead th {\n",
       "        text-align: right;\n",
       "    }\n",
       "</style>\n",
       "<table border=\"1\" class=\"dataframe\">\n",
       "  <thead>\n",
       "    <tr style=\"text-align: right;\">\n",
       "      <th></th>\n",
       "      <th>id</th>\n",
       "      <th>duration</th>\n",
       "    </tr>\n",
       "  </thead>\n",
       "  <tbody>\n",
       "    <tr>\n",
       "      <th>count</th>\n",
       "      <td>4074.00</td>\n",
       "      <td>4049.00</td>\n",
       "    </tr>\n",
       "    <tr>\n",
       "      <th>mean</th>\n",
       "      <td>563931.44</td>\n",
       "      <td>123.46</td>\n",
       "    </tr>\n",
       "    <tr>\n",
       "      <th>std</th>\n",
       "      <td>216580.45</td>\n",
       "      <td>72.53</td>\n",
       "    </tr>\n",
       "    <tr>\n",
       "      <th>min</th>\n",
       "      <td>182960.00</td>\n",
       "      <td>0.01</td>\n",
       "    </tr>\n",
       "    <tr>\n",
       "      <th>25%</th>\n",
       "      <td>378821.75</td>\n",
       "      <td>67.11</td>\n",
       "    </tr>\n",
       "    <tr>\n",
       "      <th>50%</th>\n",
       "      <td>564200.00</td>\n",
       "      <td>118.72</td>\n",
       "    </tr>\n",
       "    <tr>\n",
       "      <th>75%</th>\n",
       "      <td>753503.75</td>\n",
       "      <td>172.61</td>\n",
       "    </tr>\n",
       "    <tr>\n",
       "      <th>max</th>\n",
       "      <td>937292.00</td>\n",
       "      <td>421.57</td>\n",
       "    </tr>\n",
       "  </tbody>\n",
       "</table>\n",
       "</div>"
      ],
      "text/plain": [
       "              id  duration\n",
       "count    4074.00   4049.00\n",
       "mean   563931.44    123.46\n",
       "std    216580.45     72.53\n",
       "min    182960.00      0.01\n",
       "25%    378821.75     67.11\n",
       "50%    564200.00    118.72\n",
       "75%    753503.75    172.61\n",
       "max    937292.00    421.57"
      ]
     },
     "execution_count": 10,
     "metadata": {},
     "output_type": "execute_result"
    },
    {
     "data": {
      "application/javascript": [
       "\n",
       "            setTimeout(function() {\n",
       "                var nbb_cell_id = 10;\n",
       "                var nbb_unformatted_code = \"df2[df2.columns].describe().round(2)\";\n",
       "                var nbb_formatted_code = \"df2[df2.columns].describe().round(2)\";\n",
       "                var nbb_cells = Jupyter.notebook.get_cells();\n",
       "                for (var i = 0; i < nbb_cells.length; ++i) {\n",
       "                    if (nbb_cells[i].input_prompt_number == nbb_cell_id) {\n",
       "                        if (nbb_cells[i].get_text() == nbb_unformatted_code) {\n",
       "                             nbb_cells[i].set_text(nbb_formatted_code);\n",
       "                        }\n",
       "                        break;\n",
       "                    }\n",
       "                }\n",
       "            }, 500);\n",
       "            "
      ],
      "text/plain": [
       "<IPython.core.display.Javascript object>"
      ]
     },
     "metadata": {},
     "output_type": "display_data"
    }
   ],
   "source": [
    "df2[df2.columns].describe().round(2)"
   ]
  },
  {
   "cell_type": "code",
   "execution_count": 11,
   "id": "2caa8e82",
   "metadata": {
    "scrolled": true
   },
   "outputs": [
    {
     "data": {
      "text/html": [
       "<div>\n",
       "<style scoped>\n",
       "    .dataframe tbody tr th:only-of-type {\n",
       "        vertical-align: middle;\n",
       "    }\n",
       "\n",
       "    .dataframe tbody tr th {\n",
       "        vertical-align: top;\n",
       "    }\n",
       "\n",
       "    .dataframe thead th {\n",
       "        text-align: right;\n",
       "    }\n",
       "</style>\n",
       "<table border=\"1\" class=\"dataframe\">\n",
       "  <thead>\n",
       "    <tr style=\"text-align: right;\">\n",
       "      <th></th>\n",
       "      <th>timestamp</th>\n",
       "      <th>id</th>\n",
       "      <th>group</th>\n",
       "      <th>total_days</th>\n",
       "      <th>completed</th>\n",
       "    </tr>\n",
       "  </thead>\n",
       "  <tbody>\n",
       "    <tr>\n",
       "      <th>0</th>\n",
       "      <td>2015-08-10 17:06:01.032740</td>\n",
       "      <td>610019</td>\n",
       "      <td>experiment</td>\n",
       "      <td>97</td>\n",
       "      <td>True</td>\n",
       "    </tr>\n",
       "    <tr>\n",
       "      <th>1</th>\n",
       "      <td>2015-08-10 17:15:28.950975</td>\n",
       "      <td>690224</td>\n",
       "      <td>control</td>\n",
       "      <td>75</td>\n",
       "      <td>False</td>\n",
       "    </tr>\n",
       "    <tr>\n",
       "      <th>2</th>\n",
       "      <td>2015-08-10 17:34:40.920384</td>\n",
       "      <td>564994</td>\n",
       "      <td>experiment</td>\n",
       "      <td>128</td>\n",
       "      <td>True</td>\n",
       "    </tr>\n",
       "    <tr>\n",
       "      <th>3</th>\n",
       "      <td>2015-08-10 17:50:39.847374</td>\n",
       "      <td>849588</td>\n",
       "      <td>experiment</td>\n",
       "      <td>66</td>\n",
       "      <td>False</td>\n",
       "    </tr>\n",
       "    <tr>\n",
       "      <th>4</th>\n",
       "      <td>2015-08-10 19:10:40.650599</td>\n",
       "      <td>849826</td>\n",
       "      <td>experiment</td>\n",
       "      <td>34</td>\n",
       "      <td>False</td>\n",
       "    </tr>\n",
       "  </tbody>\n",
       "</table>\n",
       "</div>"
      ],
      "text/plain": [
       "                    timestamp      id       group  total_days  completed\n",
       "0  2015-08-10 17:06:01.032740  610019  experiment          97       True\n",
       "1  2015-08-10 17:15:28.950975  690224     control          75      False\n",
       "2  2015-08-10 17:34:40.920384  564994  experiment         128       True\n",
       "3  2015-08-10 17:50:39.847374  849588  experiment          66      False\n",
       "4  2015-08-10 19:10:40.650599  849826  experiment          34      False"
      ]
     },
     "execution_count": 11,
     "metadata": {},
     "output_type": "execute_result"
    },
    {
     "data": {
      "application/javascript": [
       "\n",
       "            setTimeout(function() {\n",
       "                var nbb_cell_id = 11;\n",
       "                var nbb_unformatted_code = \"df3 = pd.read_csv(\\\"classroom_actions.csv\\\")\\ndf3.head()\";\n",
       "                var nbb_formatted_code = \"df3 = pd.read_csv(\\\"classroom_actions.csv\\\")\\ndf3.head()\";\n",
       "                var nbb_cells = Jupyter.notebook.get_cells();\n",
       "                for (var i = 0; i < nbb_cells.length; ++i) {\n",
       "                    if (nbb_cells[i].input_prompt_number == nbb_cell_id) {\n",
       "                        if (nbb_cells[i].get_text() == nbb_unformatted_code) {\n",
       "                             nbb_cells[i].set_text(nbb_formatted_code);\n",
       "                        }\n",
       "                        break;\n",
       "                    }\n",
       "                }\n",
       "            }, 500);\n",
       "            "
      ],
      "text/plain": [
       "<IPython.core.display.Javascript object>"
      ]
     },
     "metadata": {},
     "output_type": "display_data"
    }
   ],
   "source": [
    "df3 = pd.read_csv(\"classroom_actions.csv\")\n",
    "df3.head()"
   ]
  },
  {
   "cell_type": "code",
   "execution_count": 12,
   "id": "a3936be6",
   "metadata": {
    "scrolled": true
   },
   "outputs": [
    {
     "name": "stdout",
     "output_type": "stream",
     "text": [
      "<class 'pandas.core.frame.DataFrame'>\n",
      "RangeIndex: 3829 entries, 0 to 3828\n",
      "Data columns (total 5 columns):\n",
      " #   Column      Non-Null Count  Dtype \n",
      "---  ------      --------------  ----- \n",
      " 0   timestamp   3829 non-null   object\n",
      " 1   id          3829 non-null   int64 \n",
      " 2   group       3829 non-null   object\n",
      " 3   total_days  3829 non-null   int64 \n",
      " 4   completed   3829 non-null   bool  \n",
      "dtypes: bool(1), int64(2), object(2)\n",
      "memory usage: 123.5+ KB\n"
     ]
    },
    {
     "data": {
      "application/javascript": [
       "\n",
       "            setTimeout(function() {\n",
       "                var nbb_cell_id = 12;\n",
       "                var nbb_unformatted_code = \"df3.info()\";\n",
       "                var nbb_formatted_code = \"df3.info()\";\n",
       "                var nbb_cells = Jupyter.notebook.get_cells();\n",
       "                for (var i = 0; i < nbb_cells.length; ++i) {\n",
       "                    if (nbb_cells[i].input_prompt_number == nbb_cell_id) {\n",
       "                        if (nbb_cells[i].get_text() == nbb_unformatted_code) {\n",
       "                             nbb_cells[i].set_text(nbb_formatted_code);\n",
       "                        }\n",
       "                        break;\n",
       "                    }\n",
       "                }\n",
       "            }, 500);\n",
       "            "
      ],
      "text/plain": [
       "<IPython.core.display.Javascript object>"
      ]
     },
     "metadata": {},
     "output_type": "display_data"
    }
   ],
   "source": [
    "df3.info()"
   ]
  },
  {
   "cell_type": "code",
   "execution_count": 13,
   "id": "f886d725",
   "metadata": {
    "scrolled": true
   },
   "outputs": [
    {
     "data": {
      "text/plain": [
       "timestamp     0\n",
       "id            0\n",
       "group         0\n",
       "total_days    0\n",
       "completed     0\n",
       "dtype: int64"
      ]
     },
     "execution_count": 13,
     "metadata": {},
     "output_type": "execute_result"
    },
    {
     "data": {
      "application/javascript": [
       "\n",
       "            setTimeout(function() {\n",
       "                var nbb_cell_id = 13;\n",
       "                var nbb_unformatted_code = \"df3.isnull().sum()\";\n",
       "                var nbb_formatted_code = \"df3.isnull().sum()\";\n",
       "                var nbb_cells = Jupyter.notebook.get_cells();\n",
       "                for (var i = 0; i < nbb_cells.length; ++i) {\n",
       "                    if (nbb_cells[i].input_prompt_number == nbb_cell_id) {\n",
       "                        if (nbb_cells[i].get_text() == nbb_unformatted_code) {\n",
       "                             nbb_cells[i].set_text(nbb_formatted_code);\n",
       "                        }\n",
       "                        break;\n",
       "                    }\n",
       "                }\n",
       "            }, 500);\n",
       "            "
      ],
      "text/plain": [
       "<IPython.core.display.Javascript object>"
      ]
     },
     "metadata": {},
     "output_type": "display_data"
    }
   ],
   "source": [
    "df3.isnull().sum()"
   ]
  },
  {
   "cell_type": "code",
   "execution_count": 14,
   "id": "7d9fc97a",
   "metadata": {},
   "outputs": [
    {
     "data": {
      "text/html": [
       "<div>\n",
       "<style scoped>\n",
       "    .dataframe tbody tr th:only-of-type {\n",
       "        vertical-align: middle;\n",
       "    }\n",
       "\n",
       "    .dataframe tbody tr th {\n",
       "        vertical-align: top;\n",
       "    }\n",
       "\n",
       "    .dataframe thead th {\n",
       "        text-align: right;\n",
       "    }\n",
       "</style>\n",
       "<table border=\"1\" class=\"dataframe\">\n",
       "  <thead>\n",
       "    <tr style=\"text-align: right;\">\n",
       "      <th></th>\n",
       "      <th>id</th>\n",
       "      <th>total_days</th>\n",
       "    </tr>\n",
       "  </thead>\n",
       "  <tbody>\n",
       "    <tr>\n",
       "      <th>count</th>\n",
       "      <td>3829.00</td>\n",
       "      <td>3829.00</td>\n",
       "    </tr>\n",
       "    <tr>\n",
       "      <th>mean</th>\n",
       "      <td>558788.79</td>\n",
       "      <td>74.11</td>\n",
       "    </tr>\n",
       "    <tr>\n",
       "      <th>std</th>\n",
       "      <td>215527.50</td>\n",
       "      <td>22.40</td>\n",
       "    </tr>\n",
       "    <tr>\n",
       "      <th>min</th>\n",
       "      <td>182951.00</td>\n",
       "      <td>1.00</td>\n",
       "    </tr>\n",
       "    <tr>\n",
       "      <th>25%</th>\n",
       "      <td>375055.00</td>\n",
       "      <td>58.00</td>\n",
       "    </tr>\n",
       "    <tr>\n",
       "      <th>50%</th>\n",
       "      <td>560227.00</td>\n",
       "      <td>74.00</td>\n",
       "    </tr>\n",
       "    <tr>\n",
       "      <th>75%</th>\n",
       "      <td>741535.00</td>\n",
       "      <td>91.00</td>\n",
       "    </tr>\n",
       "    <tr>\n",
       "      <th>max</th>\n",
       "      <td>937032.00</td>\n",
       "      <td>135.00</td>\n",
       "    </tr>\n",
       "  </tbody>\n",
       "</table>\n",
       "</div>"
      ],
      "text/plain": [
       "              id  total_days\n",
       "count    3829.00     3829.00\n",
       "mean   558788.79       74.11\n",
       "std    215527.50       22.40\n",
       "min    182951.00        1.00\n",
       "25%    375055.00       58.00\n",
       "50%    560227.00       74.00\n",
       "75%    741535.00       91.00\n",
       "max    937032.00      135.00"
      ]
     },
     "execution_count": 14,
     "metadata": {},
     "output_type": "execute_result"
    },
    {
     "data": {
      "application/javascript": [
       "\n",
       "            setTimeout(function() {\n",
       "                var nbb_cell_id = 14;\n",
       "                var nbb_unformatted_code = \"df3[df3.columns].describe().round(2)\";\n",
       "                var nbb_formatted_code = \"df3[df3.columns].describe().round(2)\";\n",
       "                var nbb_cells = Jupyter.notebook.get_cells();\n",
       "                for (var i = 0; i < nbb_cells.length; ++i) {\n",
       "                    if (nbb_cells[i].input_prompt_number == nbb_cell_id) {\n",
       "                        if (nbb_cells[i].get_text() == nbb_unformatted_code) {\n",
       "                             nbb_cells[i].set_text(nbb_formatted_code);\n",
       "                        }\n",
       "                        break;\n",
       "                    }\n",
       "                }\n",
       "            }, 500);\n",
       "            "
      ],
      "text/plain": [
       "<IPython.core.display.Javascript object>"
      ]
     },
     "metadata": {},
     "output_type": "display_data"
    }
   ],
   "source": [
    "df3[df3.columns].describe().round(2)"
   ]
  },
  {
   "cell_type": "markdown",
   "id": "7e13e3a4",
   "metadata": {},
   "source": [
    "### 2. Characteristics of datasets: \n",
    "- total number of actions\n",
    "- number of unique users\n",
    "- sizes of the control and experiment groups (i.e., the number of unique users in each group)"
   ]
  },
  {
   "cell_type": "code",
   "execution_count": 15,
   "id": "1f87ebb9",
   "metadata": {},
   "outputs": [
    {
     "data": {
      "text/plain": [
       "(8188, 4074, 3829)"
      ]
     },
     "execution_count": 15,
     "metadata": {},
     "output_type": "execute_result"
    },
    {
     "data": {
      "application/javascript": [
       "\n",
       "            setTimeout(function() {\n",
       "                var nbb_cell_id = 15;\n",
       "                var nbb_unformatted_code = \"# total number of actions\\ndf1.shape[0], df2.shape[0], df3.shape[0]\";\n",
       "                var nbb_formatted_code = \"# total number of actions\\ndf1.shape[0], df2.shape[0], df3.shape[0]\";\n",
       "                var nbb_cells = Jupyter.notebook.get_cells();\n",
       "                for (var i = 0; i < nbb_cells.length; ++i) {\n",
       "                    if (nbb_cells[i].input_prompt_number == nbb_cell_id) {\n",
       "                        if (nbb_cells[i].get_text() == nbb_unformatted_code) {\n",
       "                             nbb_cells[i].set_text(nbb_formatted_code);\n",
       "                        }\n",
       "                        break;\n",
       "                    }\n",
       "                }\n",
       "            }, 500);\n",
       "            "
      ],
      "text/plain": [
       "<IPython.core.display.Javascript object>"
      ]
     },
     "metadata": {},
     "output_type": "display_data"
    }
   ],
   "source": [
    "# total number of actions\n",
    "df1.shape[0], df2.shape[0], df3.shape[0]"
   ]
  },
  {
   "cell_type": "code",
   "execution_count": 16,
   "id": "0ca665b3",
   "metadata": {},
   "outputs": [
    {
     "data": {
      "text/plain": [
       "(6328, 4028, 3829)"
      ]
     },
     "execution_count": 16,
     "metadata": {},
     "output_type": "execute_result"
    },
    {
     "data": {
      "application/javascript": [
       "\n",
       "            setTimeout(function() {\n",
       "                var nbb_cell_id = 16;\n",
       "                var nbb_unformatted_code = \"# number of unique users\\ndf1.id.nunique(), df2.id.nunique(), df3.id.nunique()\";\n",
       "                var nbb_formatted_code = \"# number of unique users\\ndf1.id.nunique(), df2.id.nunique(), df3.id.nunique()\";\n",
       "                var nbb_cells = Jupyter.notebook.get_cells();\n",
       "                for (var i = 0; i < nbb_cells.length; ++i) {\n",
       "                    if (nbb_cells[i].input_prompt_number == nbb_cell_id) {\n",
       "                        if (nbb_cells[i].get_text() == nbb_unformatted_code) {\n",
       "                             nbb_cells[i].set_text(nbb_formatted_code);\n",
       "                        }\n",
       "                        break;\n",
       "                    }\n",
       "                }\n",
       "            }, 500);\n",
       "            "
      ],
      "text/plain": [
       "<IPython.core.display.Javascript object>"
      ]
     },
     "metadata": {},
     "output_type": "display_data"
    }
   ],
   "source": [
    "# number of unique users\n",
    "df1.id.nunique(), df2.id.nunique(), df3.id.nunique()"
   ]
  },
  {
   "cell_type": "code",
   "execution_count": 17,
   "id": "3c472ff6",
   "metadata": {},
   "outputs": [
    {
     "data": {
      "text/plain": [
       "(control       4264\n",
       " experiment    3924\n",
       " Name: group, dtype: int64,\n",
       " experiment    2100\n",
       " control       1974\n",
       " Name: group, dtype: int64,\n",
       " experiment    2165\n",
       " control       1664\n",
       " Name: group, dtype: int64)"
      ]
     },
     "execution_count": 17,
     "metadata": {},
     "output_type": "execute_result"
    },
    {
     "data": {
      "application/javascript": [
       "\n",
       "            setTimeout(function() {\n",
       "                var nbb_cell_id = 17;\n",
       "                var nbb_unformatted_code = \"df1.group.value_counts(), df2.group.value_counts(), df3.group.value_counts()\";\n",
       "                var nbb_formatted_code = \"df1.group.value_counts(), df2.group.value_counts(), df3.group.value_counts()\";\n",
       "                var nbb_cells = Jupyter.notebook.get_cells();\n",
       "                for (var i = 0; i < nbb_cells.length; ++i) {\n",
       "                    if (nbb_cells[i].input_prompt_number == nbb_cell_id) {\n",
       "                        if (nbb_cells[i].get_text() == nbb_unformatted_code) {\n",
       "                             nbb_cells[i].set_text(nbb_formatted_code);\n",
       "                        }\n",
       "                        break;\n",
       "                    }\n",
       "                }\n",
       "            }, 500);\n",
       "            "
      ],
      "text/plain": [
       "<IPython.core.display.Javascript object>"
      ]
     },
     "metadata": {},
     "output_type": "display_data"
    }
   ],
   "source": [
    "df1.group.value_counts(), df2.group.value_counts(), df3.group.value_counts()"
   ]
  },
  {
   "cell_type": "code",
   "execution_count": 18,
   "id": "0d907704",
   "metadata": {},
   "outputs": [
    {
     "data": {
      "text/plain": [
       "group\n",
       "control       3332\n",
       "experiment    2996\n",
       "Name: id, dtype: int64"
      ]
     },
     "execution_count": 18,
     "metadata": {},
     "output_type": "execute_result"
    },
    {
     "data": {
      "application/javascript": [
       "\n",
       "            setTimeout(function() {\n",
       "                var nbb_cell_id = 18;\n",
       "                var nbb_unformatted_code = \"df1.groupby(['group'])['id'].nunique()\";\n",
       "                var nbb_formatted_code = \"df1.groupby([\\\"group\\\"])[\\\"id\\\"].nunique()\";\n",
       "                var nbb_cells = Jupyter.notebook.get_cells();\n",
       "                for (var i = 0; i < nbb_cells.length; ++i) {\n",
       "                    if (nbb_cells[i].input_prompt_number == nbb_cell_id) {\n",
       "                        if (nbb_cells[i].get_text() == nbb_unformatted_code) {\n",
       "                             nbb_cells[i].set_text(nbb_formatted_code);\n",
       "                        }\n",
       "                        break;\n",
       "                    }\n",
       "                }\n",
       "            }, 500);\n",
       "            "
      ],
      "text/plain": [
       "<IPython.core.display.Javascript object>"
      ]
     },
     "metadata": {},
     "output_type": "display_data"
    }
   ],
   "source": [
    "df1.groupby([\"group\"])[\"id\"].nunique()"
   ]
  },
  {
   "cell_type": "code",
   "execution_count": 19,
   "id": "663c0ce6",
   "metadata": {},
   "outputs": [
    {
     "data": {
      "text/plain": [
       "group       action\n",
       "control     click      932\n",
       "            view      3332\n",
       "experiment  click      928\n",
       "            view      2996\n",
       "Name: id, dtype: int64"
      ]
     },
     "execution_count": 19,
     "metadata": {},
     "output_type": "execute_result"
    },
    {
     "data": {
      "application/javascript": [
       "\n",
       "            setTimeout(function() {\n",
       "                var nbb_cell_id = 19;\n",
       "                var nbb_unformatted_code = \"df1.groupby([\\\"group\\\", \\\"action\\\"])[\\\"id\\\"].nunique()\";\n",
       "                var nbb_formatted_code = \"df1.groupby([\\\"group\\\", \\\"action\\\"])[\\\"id\\\"].nunique()\";\n",
       "                var nbb_cells = Jupyter.notebook.get_cells();\n",
       "                for (var i = 0; i < nbb_cells.length; ++i) {\n",
       "                    if (nbb_cells[i].input_prompt_number == nbb_cell_id) {\n",
       "                        if (nbb_cells[i].get_text() == nbb_unformatted_code) {\n",
       "                             nbb_cells[i].set_text(nbb_formatted_code);\n",
       "                        }\n",
       "                        break;\n",
       "                    }\n",
       "                }\n",
       "            }, 500);\n",
       "            "
      ],
      "text/plain": [
       "<IPython.core.display.Javascript object>"
      ]
     },
     "metadata": {},
     "output_type": "display_data"
    }
   ],
   "source": [
    "df1.groupby([\"group\", \"action\"])[\"id\"].nunique()\n"
   ]
  },
  {
   "cell_type": "code",
   "execution_count": 20,
   "id": "503d0102",
   "metadata": {},
   "outputs": [
    {
     "data": {
      "text/plain": [
       "group       action\n",
       "control     enroll     375\n",
       "            view      1586\n",
       "experiment  enroll     439\n",
       "            view      1645\n",
       "Name: id, dtype: int64"
      ]
     },
     "execution_count": 20,
     "metadata": {},
     "output_type": "execute_result"
    },
    {
     "data": {
      "application/javascript": [
       "\n",
       "            setTimeout(function() {\n",
       "                var nbb_cell_id = 20;\n",
       "                var nbb_unformatted_code = \"df2.groupby([\\\"group\\\", \\\"action\\\"])[\\\"id\\\"].nunique()\";\n",
       "                var nbb_formatted_code = \"df2.groupby([\\\"group\\\", \\\"action\\\"])[\\\"id\\\"].nunique()\";\n",
       "                var nbb_cells = Jupyter.notebook.get_cells();\n",
       "                for (var i = 0; i < nbb_cells.length; ++i) {\n",
       "                    if (nbb_cells[i].input_prompt_number == nbb_cell_id) {\n",
       "                        if (nbb_cells[i].get_text() == nbb_unformatted_code) {\n",
       "                             nbb_cells[i].set_text(nbb_formatted_code);\n",
       "                        }\n",
       "                        break;\n",
       "                    }\n",
       "                }\n",
       "            }, 500);\n",
       "            "
      ],
      "text/plain": [
       "<IPython.core.display.Javascript object>"
      ]
     },
     "metadata": {},
     "output_type": "display_data"
    }
   ],
   "source": [
    "df2.groupby([\"group\", \"action\"])[\"id\"].nunique()"
   ]
  },
  {
   "cell_type": "code",
   "execution_count": 21,
   "id": "9b00410d",
   "metadata": {},
   "outputs": [
    {
     "data": {
      "text/plain": [
       "group       completed\n",
       "control     False        1045\n",
       "            True          619\n",
       "experiment  False        1313\n",
       "            True          852\n",
       "Name: id, dtype: int64"
      ]
     },
     "execution_count": 21,
     "metadata": {},
     "output_type": "execute_result"
    },
    {
     "data": {
      "application/javascript": [
       "\n",
       "            setTimeout(function() {\n",
       "                var nbb_cell_id = 21;\n",
       "                var nbb_unformatted_code = \"df3.groupby([\\\"group\\\", \\\"completed\\\"])[\\\"id\\\"].nunique()\";\n",
       "                var nbb_formatted_code = \"df3.groupby([\\\"group\\\", \\\"completed\\\"])[\\\"id\\\"].nunique()\";\n",
       "                var nbb_cells = Jupyter.notebook.get_cells();\n",
       "                for (var i = 0; i < nbb_cells.length; ++i) {\n",
       "                    if (nbb_cells[i].input_prompt_number == nbb_cell_id) {\n",
       "                        if (nbb_cells[i].get_text() == nbb_unformatted_code) {\n",
       "                             nbb_cells[i].set_text(nbb_formatted_code);\n",
       "                        }\n",
       "                        break;\n",
       "                    }\n",
       "                }\n",
       "            }, 500);\n",
       "            "
      ],
      "text/plain": [
       "<IPython.core.display.Javascript object>"
      ]
     },
     "metadata": {},
     "output_type": "display_data"
    }
   ],
   "source": [
    "df3.groupby([\"group\", \"completed\"])[\"id\"].nunique()"
   ]
  },
  {
   "cell_type": "markdown",
   "id": "0ee4c335",
   "metadata": {},
   "source": [
    "### 3. Length of the experiment \n",
    "Hint: the records in this dataset are ordered by timestamp in increasing order"
   ]
  },
  {
   "cell_type": "code",
   "execution_count": 22,
   "id": "d00e4591",
   "metadata": {},
   "outputs": [
    {
     "name": "stdout",
     "output_type": "stream",
     "text": [
      "Time Difference for homepage_actions: 115 days, 16 hours, 41 minutes, 40 seconds\n"
     ]
    },
    {
     "data": {
      "application/javascript": [
       "\n",
       "            setTimeout(function() {\n",
       "                var nbb_cell_id = 22;\n",
       "                var nbb_unformatted_code = \"timestamp_str1 = df1.timestamp.min()\\ntimestamp_str2 = df1.timestamp.max() \\n\\n# Convert timestamp strings to datetime objects\\ntimestamp1 = dt.strptime(timestamp_str1, \\\"%Y-%m-%d %H:%M:%S.%f\\\")\\ntimestamp2 = dt.strptime(timestamp_str2, \\\"%Y-%m-%d %H:%M:%S.%f\\\")\\n\\n# Calculate the difference between the two timestamps\\ntime_difference = timestamp2 - timestamp1\\n\\n# Access individual components of the time difference\\ndays_difference = time_difference.days\\nseconds_difference = time_difference.seconds\\nhours_difference = seconds_difference // 3600\\nminutes_difference = (seconds_difference % 3600) // 60\\nseconds_difference = seconds_difference % 60\\n\\n# Print the results\\nprint(f\\\"Time Difference for homepage_actions: {days_difference} days, {hours_difference} hours, {minutes_difference} minutes, {seconds_difference} seconds\\\")\";\n",
       "                var nbb_formatted_code = \"timestamp_str1 = df1.timestamp.min()\\ntimestamp_str2 = df1.timestamp.max()\\n\\n# Convert timestamp strings to datetime objects\\ntimestamp1 = dt.strptime(timestamp_str1, \\\"%Y-%m-%d %H:%M:%S.%f\\\")\\ntimestamp2 = dt.strptime(timestamp_str2, \\\"%Y-%m-%d %H:%M:%S.%f\\\")\\n\\n# Calculate the difference between the two timestamps\\ntime_difference = timestamp2 - timestamp1\\n\\n# Access individual components of the time difference\\ndays_difference = time_difference.days\\nseconds_difference = time_difference.seconds\\nhours_difference = seconds_difference // 3600\\nminutes_difference = (seconds_difference % 3600) // 60\\nseconds_difference = seconds_difference % 60\\n\\n# Print the results\\nprint(\\n    f\\\"Time Difference for homepage_actions: {days_difference} days, {hours_difference} hours, {minutes_difference} minutes, {seconds_difference} seconds\\\"\\n)\";\n",
       "                var nbb_cells = Jupyter.notebook.get_cells();\n",
       "                for (var i = 0; i < nbb_cells.length; ++i) {\n",
       "                    if (nbb_cells[i].input_prompt_number == nbb_cell_id) {\n",
       "                        if (nbb_cells[i].get_text() == nbb_unformatted_code) {\n",
       "                             nbb_cells[i].set_text(nbb_formatted_code);\n",
       "                        }\n",
       "                        break;\n",
       "                    }\n",
       "                }\n",
       "            }, 500);\n",
       "            "
      ],
      "text/plain": [
       "<IPython.core.display.Javascript object>"
      ]
     },
     "metadata": {},
     "output_type": "display_data"
    }
   ],
   "source": [
    "timestamp_str1 = df1.timestamp.min()\n",
    "timestamp_str2 = df1.timestamp.max() \n",
    "\n",
    "# Convert timestamp strings to datetime objects\n",
    "timestamp1 = dt.strptime(timestamp_str1, \"%Y-%m-%d %H:%M:%S.%f\")\n",
    "timestamp2 = dt.strptime(timestamp_str2, \"%Y-%m-%d %H:%M:%S.%f\")\n",
    "\n",
    "# Calculate the difference between the two timestamps\n",
    "time_difference = timestamp2 - timestamp1\n",
    "\n",
    "# Access individual components of the time difference\n",
    "days_difference = time_difference.days\n",
    "seconds_difference = time_difference.seconds\n",
    "hours_difference = seconds_difference // 3600\n",
    "minutes_difference = (seconds_difference % 3600) // 60\n",
    "seconds_difference = seconds_difference % 60\n",
    "\n",
    "# Print the results\n",
    "print(f\"Time Difference for homepage_actions: {days_difference} days, {hours_difference} hours, {minutes_difference} minutes, {seconds_difference} seconds\")\n"
   ]
  },
  {
   "cell_type": "code",
   "execution_count": 23,
   "id": "7909663a",
   "metadata": {},
   "outputs": [
    {
     "name": "stdout",
     "output_type": "stream",
     "text": [
      "Time Difference for course_page_actions: 115 days, 17 hours, 23 minutes, 28 seconds\n"
     ]
    },
    {
     "data": {
      "application/javascript": [
       "\n",
       "            setTimeout(function() {\n",
       "                var nbb_cell_id = 23;\n",
       "                var nbb_unformatted_code = \"timestamp_str1 = df2.timestamp.min()\\ntimestamp_str2 = df2.timestamp.max() \\n\\n# Convert timestamp strings to datetime objects\\ntimestamp1 = dt.strptime(timestamp_str1, \\\"%Y-%m-%d %H:%M:%S.%f\\\")\\ntimestamp2 = dt.strptime(timestamp_str2, \\\"%Y-%m-%d %H:%M:%S.%f\\\")\\n\\n# Calculate the difference between the two timestamps\\ntime_difference = timestamp2 - timestamp1\\n\\n# Access individual components of the time difference\\ndays_difference = time_difference.days\\nseconds_difference = time_difference.seconds\\nhours_difference = seconds_difference // 3600\\nminutes_difference = (seconds_difference % 3600) // 60\\nseconds_difference = seconds_difference % 60\\n\\n# Print the results\\nprint(f\\\"Time Difference for course_page_actions: {days_difference} days, {hours_difference} hours, {minutes_difference} minutes, {seconds_difference} seconds\\\")\";\n",
       "                var nbb_formatted_code = \"timestamp_str1 = df2.timestamp.min()\\ntimestamp_str2 = df2.timestamp.max()\\n\\n# Convert timestamp strings to datetime objects\\ntimestamp1 = dt.strptime(timestamp_str1, \\\"%Y-%m-%d %H:%M:%S.%f\\\")\\ntimestamp2 = dt.strptime(timestamp_str2, \\\"%Y-%m-%d %H:%M:%S.%f\\\")\\n\\n# Calculate the difference between the two timestamps\\ntime_difference = timestamp2 - timestamp1\\n\\n# Access individual components of the time difference\\ndays_difference = time_difference.days\\nseconds_difference = time_difference.seconds\\nhours_difference = seconds_difference // 3600\\nminutes_difference = (seconds_difference % 3600) // 60\\nseconds_difference = seconds_difference % 60\\n\\n# Print the results\\nprint(\\n    f\\\"Time Difference for course_page_actions: {days_difference} days, {hours_difference} hours, {minutes_difference} minutes, {seconds_difference} seconds\\\"\\n)\";\n",
       "                var nbb_cells = Jupyter.notebook.get_cells();\n",
       "                for (var i = 0; i < nbb_cells.length; ++i) {\n",
       "                    if (nbb_cells[i].input_prompt_number == nbb_cell_id) {\n",
       "                        if (nbb_cells[i].get_text() == nbb_unformatted_code) {\n",
       "                             nbb_cells[i].set_text(nbb_formatted_code);\n",
       "                        }\n",
       "                        break;\n",
       "                    }\n",
       "                }\n",
       "            }, 500);\n",
       "            "
      ],
      "text/plain": [
       "<IPython.core.display.Javascript object>"
      ]
     },
     "metadata": {},
     "output_type": "display_data"
    }
   ],
   "source": [
    "timestamp_str1 = df2.timestamp.min()\n",
    "timestamp_str2 = df2.timestamp.max() \n",
    "\n",
    "# Convert timestamp strings to datetime objects\n",
    "timestamp1 = dt.strptime(timestamp_str1, \"%Y-%m-%d %H:%M:%S.%f\")\n",
    "timestamp2 = dt.strptime(timestamp_str2, \"%Y-%m-%d %H:%M:%S.%f\")\n",
    "\n",
    "# Calculate the difference between the two timestamps\n",
    "time_difference = timestamp2 - timestamp1\n",
    "\n",
    "# Access individual components of the time difference\n",
    "days_difference = time_difference.days\n",
    "seconds_difference = time_difference.seconds\n",
    "hours_difference = seconds_difference // 3600\n",
    "minutes_difference = (seconds_difference % 3600) // 60\n",
    "seconds_difference = seconds_difference % 60\n",
    "\n",
    "# Print the results\n",
    "print(f\"Time Difference for course_page_actions: {days_difference} days, {hours_difference} hours, {minutes_difference} minutes, {seconds_difference} seconds\")\n"
   ]
  },
  {
   "cell_type": "code",
   "execution_count": 24,
   "id": "01363389",
   "metadata": {},
   "outputs": [
    {
     "name": "stdout",
     "output_type": "stream",
     "text": [
      "Time Difference for classroom_actions: 161 days, 22 hours, 15 minutes, 30 seconds\n"
     ]
    },
    {
     "data": {
      "application/javascript": [
       "\n",
       "            setTimeout(function() {\n",
       "                var nbb_cell_id = 24;\n",
       "                var nbb_unformatted_code = \"timestamp_str1 = df3.timestamp.min()\\ntimestamp_str2 = df3.timestamp.max() \\n\\n# Convert timestamp strings to datetime objects\\ntimestamp1 = dt.strptime(timestamp_str1, \\\"%Y-%m-%d %H:%M:%S.%f\\\")\\ntimestamp2 = dt.strptime(timestamp_str2, \\\"%Y-%m-%d %H:%M:%S.%f\\\")\\n\\n# Calculate the difference between the two timestamps\\ntime_difference = timestamp2 - timestamp1\\n\\n# Access individual components of the time difference\\ndays_difference = time_difference.days\\nseconds_difference = time_difference.seconds\\nhours_difference = seconds_difference // 3600\\nminutes_difference = (seconds_difference % 3600) // 60\\nseconds_difference = seconds_difference % 60\\n\\n# Print the results\\nprint(f\\\"Time Difference for classroom_actions: {days_difference} days, {hours_difference} hours, {minutes_difference} minutes, {seconds_difference} seconds\\\")\";\n",
       "                var nbb_formatted_code = \"timestamp_str1 = df3.timestamp.min()\\ntimestamp_str2 = df3.timestamp.max()\\n\\n# Convert timestamp strings to datetime objects\\ntimestamp1 = dt.strptime(timestamp_str1, \\\"%Y-%m-%d %H:%M:%S.%f\\\")\\ntimestamp2 = dt.strptime(timestamp_str2, \\\"%Y-%m-%d %H:%M:%S.%f\\\")\\n\\n# Calculate the difference between the two timestamps\\ntime_difference = timestamp2 - timestamp1\\n\\n# Access individual components of the time difference\\ndays_difference = time_difference.days\\nseconds_difference = time_difference.seconds\\nhours_difference = seconds_difference // 3600\\nminutes_difference = (seconds_difference % 3600) // 60\\nseconds_difference = seconds_difference % 60\\n\\n# Print the results\\nprint(\\n    f\\\"Time Difference for classroom_actions: {days_difference} days, {hours_difference} hours, {minutes_difference} minutes, {seconds_difference} seconds\\\"\\n)\";\n",
       "                var nbb_cells = Jupyter.notebook.get_cells();\n",
       "                for (var i = 0; i < nbb_cells.length; ++i) {\n",
       "                    if (nbb_cells[i].input_prompt_number == nbb_cell_id) {\n",
       "                        if (nbb_cells[i].get_text() == nbb_unformatted_code) {\n",
       "                             nbb_cells[i].set_text(nbb_formatted_code);\n",
       "                        }\n",
       "                        break;\n",
       "                    }\n",
       "                }\n",
       "            }, 500);\n",
       "            "
      ],
      "text/plain": [
       "<IPython.core.display.Javascript object>"
      ]
     },
     "metadata": {},
     "output_type": "display_data"
    }
   ],
   "source": [
    "timestamp_str1 = df3.timestamp.min()\n",
    "timestamp_str2 = df3.timestamp.max() \n",
    "\n",
    "# Convert timestamp strings to datetime objects\n",
    "timestamp1 = dt.strptime(timestamp_str1, \"%Y-%m-%d %H:%M:%S.%f\")\n",
    "timestamp2 = dt.strptime(timestamp_str2, \"%Y-%m-%d %H:%M:%S.%f\")\n",
    "\n",
    "# Calculate the difference between the two timestamps\n",
    "time_difference = timestamp2 - timestamp1\n",
    "\n",
    "# Access individual components of the time difference\n",
    "days_difference = time_difference.days\n",
    "seconds_difference = time_difference.seconds\n",
    "hours_difference = seconds_difference // 3600\n",
    "minutes_difference = (seconds_difference % 3600) // 60\n",
    "seconds_difference = seconds_difference % 60\n",
    "\n",
    "# Print the results\n",
    "print(f\"Time Difference for classroom_actions: {days_difference} days, {hours_difference} hours, {minutes_difference} minutes, {seconds_difference} seconds\")\n"
   ]
  },
  {
   "cell_type": "markdown",
   "id": "2a9ba329",
   "metadata": {},
   "source": [
    "### 4. Recorded action types in datasets\n",
    "(i.e., What are the unique values in the action column?)"
   ]
  },
  {
   "cell_type": "code",
   "execution_count": 25,
   "id": "0b5cca01",
   "metadata": {},
   "outputs": [
    {
     "data": {
      "text/plain": [
       "view     6328\n",
       "click    1860\n",
       "Name: action, dtype: int64"
      ]
     },
     "execution_count": 25,
     "metadata": {},
     "output_type": "execute_result"
    },
    {
     "data": {
      "application/javascript": [
       "\n",
       "            setTimeout(function() {\n",
       "                var nbb_cell_id = 25;\n",
       "                var nbb_unformatted_code = \"df1.action.value_counts()\";\n",
       "                var nbb_formatted_code = \"df1.action.value_counts()\";\n",
       "                var nbb_cells = Jupyter.notebook.get_cells();\n",
       "                for (var i = 0; i < nbb_cells.length; ++i) {\n",
       "                    if (nbb_cells[i].input_prompt_number == nbb_cell_id) {\n",
       "                        if (nbb_cells[i].get_text() == nbb_unformatted_code) {\n",
       "                             nbb_cells[i].set_text(nbb_formatted_code);\n",
       "                        }\n",
       "                        break;\n",
       "                    }\n",
       "                }\n",
       "            }, 500);\n",
       "            "
      ],
      "text/plain": [
       "<IPython.core.display.Javascript object>"
      ]
     },
     "metadata": {},
     "output_type": "display_data"
    }
   ],
   "source": [
    "df1.action.value_counts()"
   ]
  },
  {
   "cell_type": "code",
   "execution_count": 26,
   "id": "678e91c6",
   "metadata": {},
   "outputs": [
    {
     "data": {
      "text/plain": [
       "view      3260\n",
       "enroll     814\n",
       "Name: action, dtype: int64"
      ]
     },
     "execution_count": 26,
     "metadata": {},
     "output_type": "execute_result"
    },
    {
     "data": {
      "application/javascript": [
       "\n",
       "            setTimeout(function() {\n",
       "                var nbb_cell_id = 26;\n",
       "                var nbb_unformatted_code = \"df2.action.value_counts()\";\n",
       "                var nbb_formatted_code = \"df2.action.value_counts()\";\n",
       "                var nbb_cells = Jupyter.notebook.get_cells();\n",
       "                for (var i = 0; i < nbb_cells.length; ++i) {\n",
       "                    if (nbb_cells[i].input_prompt_number == nbb_cell_id) {\n",
       "                        if (nbb_cells[i].get_text() == nbb_unformatted_code) {\n",
       "                             nbb_cells[i].set_text(nbb_formatted_code);\n",
       "                        }\n",
       "                        break;\n",
       "                    }\n",
       "                }\n",
       "            }, 500);\n",
       "            "
      ],
      "text/plain": [
       "<IPython.core.display.Javascript object>"
      ]
     },
     "metadata": {},
     "output_type": "display_data"
    }
   ],
   "source": [
    "df2.action.value_counts()"
   ]
  },
  {
   "cell_type": "code",
   "execution_count": 27,
   "id": "20d61773",
   "metadata": {},
   "outputs": [
    {
     "data": {
      "text/plain": [
       "False    2358\n",
       "True     1471\n",
       "Name: completed, dtype: int64"
      ]
     },
     "execution_count": 27,
     "metadata": {},
     "output_type": "execute_result"
    },
    {
     "data": {
      "application/javascript": [
       "\n",
       "            setTimeout(function() {\n",
       "                var nbb_cell_id = 27;\n",
       "                var nbb_unformatted_code = \"df3.completed.value_counts()\";\n",
       "                var nbb_formatted_code = \"df3.completed.value_counts()\";\n",
       "                var nbb_cells = Jupyter.notebook.get_cells();\n",
       "                for (var i = 0; i < nbb_cells.length; ++i) {\n",
       "                    if (nbb_cells[i].input_prompt_number == nbb_cell_id) {\n",
       "                        if (nbb_cells[i].get_text() == nbb_unformatted_code) {\n",
       "                             nbb_cells[i].set_text(nbb_formatted_code);\n",
       "                        }\n",
       "                        break;\n",
       "                    }\n",
       "                }\n",
       "            }, 500);\n",
       "            "
      ],
      "text/plain": [
       "<IPython.core.display.Javascript object>"
      ]
     },
     "metadata": {},
     "output_type": "display_data"
    }
   ],
   "source": [
    "df3.completed.value_counts()"
   ]
  },
  {
   "cell_type": "markdown",
   "id": "71dc0a80",
   "metadata": {},
   "source": [
    "### 5. The null and alternative hypotheses formulation\n",
    "For click through rates $CTR$, $CTR_{old}$ and $CTR_{new}$ are old and new rates so in our hypotheses.\n",
    "\n",
    "$$H_0:  CTR_{old} > = CTR_{new} $$\n",
    "     $$H_1: CTR_{old} < CTR_{new}  $$\n",
    "     \n",
    "For Enrollment rate $ER$, $ER_{old}$ and $ER_{new}$ are old and new enrollment rates so in our hypotheses.\n",
    "\n",
    "$$H_0:  ER_{old} > = ER_{new} $$\n",
    "     $$H_1: ER_{old} < ER_{new}  $$\n",
    "     \n",
    "     \n",
    "For Average reading duration $ARD$, $ARD_{old}$ and $ARD_{new}$ are old and new rates so in our hypotheses.\n",
    "\n",
    "$$H_0:  ARD_{old} > = ARD_{new} $$\n",
    "     $$H_1: ARD_{old} < ARD_{new}  $$\n",
    "     \n",
    "     \n",
    "     \n",
    "For Average classroom time $ACT$, $ACT_{old}$ and $ACT_{new}$ are old and new rates so in our hypotheses.\n",
    "\n",
    "$$H_0:  ACT_{old} > = ACT_{new} $$\n",
    "     $$H_1: ACT_{old} < ACT_{new}  $$\n",
    "     \n",
    "     \n",
    "     \n",
    "For Completion rate $CR$, $CR_{old}$ and $CR_{new}$ are old and new rates so in our hypotheses.\n",
    "\n",
    "$$H_0:  CR_{old} > = CR_{new} $$\n",
    "     $$H_1: CR_{old} < CR_{new}  $$\n"
   ]
  },
  {
   "cell_type": "markdown",
   "id": "5e7addf0",
   "metadata": {},
   "source": [
    "### 6. Computing difference Metric$_{diff}$ = Metric$_{new}$ - Metric$_{old}$ ?\n",
    "\n",
    "Compute the observed difference between metrics, for the control(old) and experiment(new) groups"
   ]
  },
  {
   "cell_type": "markdown",
   "id": "2db72ac7",
   "metadata": {},
   "source": [
    "### Metric # 1 - Click Through Rate\n",
    "The Click-Through Rate (CTR) is a metric used to measure the effectiveness of an online advertising campaign or a webpage. It is calculated as the ratio of the number of clicks on a specific link or element to the number of times the link or element was displayed (impressions).\n",
    "\n",
    "The formula for Click-Through Rate (CTR) is:\n",
    "$$ CTR = \\frac{Number\\ of\\ Clicks}{Number\\ of\\ Impressions} $$\n",
    "Where:\n",
    "- \\( Number of Clicks \\) is the total number of clicks on the link or element.\n",
    "- \\( Number of Impressions \\) is the total number of times the link or element was displayed.\n",
    "\n"
   ]
  },
  {
   "cell_type": "code",
   "execution_count": 28,
   "id": "7b151c84",
   "metadata": {},
   "outputs": [
    {
     "data": {
      "application/javascript": [
       "\n",
       "            setTimeout(function() {\n",
       "                var nbb_cell_id = 28;\n",
       "                var nbb_unformatted_code = \"df_control = df1.query('group == \\\"control\\\"')\\nctr_old = (\\n    df_control.query('action == \\\"click\\\"').id.nunique()\\n    / df_control.query('action == \\\"view\\\"').id.nunique()\\n)\";\n",
       "                var nbb_formatted_code = \"df_control = df1.query('group == \\\"control\\\"')\\nctr_old = (\\n    df_control.query('action == \\\"click\\\"').id.nunique()\\n    / df_control.query('action == \\\"view\\\"').id.nunique()\\n)\";\n",
       "                var nbb_cells = Jupyter.notebook.get_cells();\n",
       "                for (var i = 0; i < nbb_cells.length; ++i) {\n",
       "                    if (nbb_cells[i].input_prompt_number == nbb_cell_id) {\n",
       "                        if (nbb_cells[i].get_text() == nbb_unformatted_code) {\n",
       "                             nbb_cells[i].set_text(nbb_formatted_code);\n",
       "                        }\n",
       "                        break;\n",
       "                    }\n",
       "                }\n",
       "            }, 500);\n",
       "            "
      ],
      "text/plain": [
       "<IPython.core.display.Javascript object>"
      ]
     },
     "metadata": {},
     "output_type": "display_data"
    }
   ],
   "source": [
    "df_control = df1.query('group == \"control\"')\n",
    "ctr_old = (\n",
    "    df_control.query('action == \"click\"').id.nunique()\n",
    "    / df_control.query('action == \"view\"').id.nunique()\n",
    ")"
   ]
  },
  {
   "cell_type": "code",
   "execution_count": 29,
   "id": "29b1b006",
   "metadata": {},
   "outputs": [
    {
     "data": {
      "application/javascript": [
       "\n",
       "            setTimeout(function() {\n",
       "                var nbb_cell_id = 29;\n",
       "                var nbb_unformatted_code = \"df_experiment = df1.query('group == \\\"experiment\\\"')\\nctr_new = (\\n    df_experiment.query('action == \\\"click\\\"').id.nunique()\\n    / df_experiment.query('action == \\\"view\\\"').id.nunique()\\n)\";\n",
       "                var nbb_formatted_code = \"df_experiment = df1.query('group == \\\"experiment\\\"')\\nctr_new = (\\n    df_experiment.query('action == \\\"click\\\"').id.nunique()\\n    / df_experiment.query('action == \\\"view\\\"').id.nunique()\\n)\";\n",
       "                var nbb_cells = Jupyter.notebook.get_cells();\n",
       "                for (var i = 0; i < nbb_cells.length; ++i) {\n",
       "                    if (nbb_cells[i].input_prompt_number == nbb_cell_id) {\n",
       "                        if (nbb_cells[i].get_text() == nbb_unformatted_code) {\n",
       "                             nbb_cells[i].set_text(nbb_formatted_code);\n",
       "                        }\n",
       "                        break;\n",
       "                    }\n",
       "                }\n",
       "            }, 500);\n",
       "            "
      ],
      "text/plain": [
       "<IPython.core.display.Javascript object>"
      ]
     },
     "metadata": {},
     "output_type": "display_data"
    }
   ],
   "source": [
    "df_experiment = df1.query('group == \"experiment\"')\n",
    "ctr_new = (\n",
    "    df_experiment.query('action == \"click\"').id.nunique()\n",
    "    / df_experiment.query('action == \"view\"').id.nunique()\n",
    ")"
   ]
  },
  {
   "cell_type": "code",
   "execution_count": 30,
   "id": "977cb73c",
   "metadata": {},
   "outputs": [
    {
     "data": {
      "text/plain": [
       "(0.3097463284379172, 0.2797118847539016)"
      ]
     },
     "execution_count": 30,
     "metadata": {},
     "output_type": "execute_result"
    },
    {
     "data": {
      "application/javascript": [
       "\n",
       "            setTimeout(function() {\n",
       "                var nbb_cell_id = 30;\n",
       "                var nbb_unformatted_code = \"ctr_new, ctr_old\";\n",
       "                var nbb_formatted_code = \"ctr_new, ctr_old\";\n",
       "                var nbb_cells = Jupyter.notebook.get_cells();\n",
       "                for (var i = 0; i < nbb_cells.length; ++i) {\n",
       "                    if (nbb_cells[i].input_prompt_number == nbb_cell_id) {\n",
       "                        if (nbb_cells[i].get_text() == nbb_unformatted_code) {\n",
       "                             nbb_cells[i].set_text(nbb_formatted_code);\n",
       "                        }\n",
       "                        break;\n",
       "                    }\n",
       "                }\n",
       "            }, 500);\n",
       "            "
      ],
      "text/plain": [
       "<IPython.core.display.Javascript object>"
      ]
     },
     "metadata": {},
     "output_type": "display_data"
    }
   ],
   "source": [
    "ctr_new, ctr_old"
   ]
  },
  {
   "cell_type": "code",
   "execution_count": 31,
   "id": "71466942",
   "metadata": {},
   "outputs": [
    {
     "data": {
      "text/plain": [
       "0.030034443684015644"
      ]
     },
     "execution_count": 31,
     "metadata": {},
     "output_type": "execute_result"
    },
    {
     "data": {
      "application/javascript": [
       "\n",
       "            setTimeout(function() {\n",
       "                var nbb_cell_id = 31;\n",
       "                var nbb_unformatted_code = \"ctr_diff = ctr_new - ctr_old\\nctr_diff\";\n",
       "                var nbb_formatted_code = \"ctr_diff = ctr_new - ctr_old\\nctr_diff\";\n",
       "                var nbb_cells = Jupyter.notebook.get_cells();\n",
       "                for (var i = 0; i < nbb_cells.length; ++i) {\n",
       "                    if (nbb_cells[i].input_prompt_number == nbb_cell_id) {\n",
       "                        if (nbb_cells[i].get_text() == nbb_unformatted_code) {\n",
       "                             nbb_cells[i].set_text(nbb_formatted_code);\n",
       "                        }\n",
       "                        break;\n",
       "                    }\n",
       "                }\n",
       "            }, 500);\n",
       "            "
      ],
      "text/plain": [
       "<IPython.core.display.Javascript object>"
      ]
     },
     "metadata": {},
     "output_type": "display_data"
    }
   ],
   "source": [
    "ctr_diff = ctr_new - ctr_old\n",
    "ctr_diff"
   ]
  },
  {
   "cell_type": "markdown",
   "id": "9c209cae",
   "metadata": {},
   "source": [
    "### 7. Sampling  for Metric$_{diff}$ ?\n"
   ]
  },
  {
   "cell_type": "markdown",
   "id": "cc458e95",
   "metadata": {},
   "source": [
    "To bootstrap the sample and simulate the sampling distribution for observing the difference:\n",
    "\n",
    "- Sample with replacement from observed data for control and experiment groups.\n",
    "- Compute metrics of interest for each bootstrap sample.\n",
    "- Repeat the process 10,000 times for multiple bootstrap samples.\n",
    "- Plot a histogram to analyze the distribution of differences.\n",
    "- Assess variability and draw inferences about the population.\n",
    "- To find 'p' value, simulate the null distribution and determine the probability that our statistic originated from it. Simulate from a null distribution centered at zero with the same standard deviation as our sampling distribution."
   ]
  },
  {
   "cell_type": "code",
   "execution_count": 32,
   "id": "90577937",
   "metadata": {},
   "outputs": [
    {
     "data": {
      "application/javascript": [
       "\n",
       "            setTimeout(function() {\n",
       "                var nbb_cell_id = 32;\n",
       "                var nbb_unformatted_code = \"diffs = []\\nfor _ in range(10000):\\n    bi_samp = df1.sample(df1.shape[0], replace=True)\\n    df_control = bi_samp.query('group == \\\"control\\\"')\\n    df_experiment = bi_samp.query('group == \\\"experiment\\\"')\\n    ctr_new = (\\n        df_control.query('action == \\\"click\\\"').id.nunique()\\n        / df_control.query('action == \\\"view\\\"').id.nunique()\\n    )\\n    ctr_new = (\\n        df_experiment.query('action == \\\"click\\\"').id.nunique()\\n        / df_experiment.query('action == \\\"view\\\"').id.nunique()\\n    )\\n    diffs.append(ctr_new - ctr_old)\";\n",
       "                var nbb_formatted_code = \"diffs = []\\nfor _ in range(10000):\\n    bi_samp = df1.sample(df1.shape[0], replace=True)\\n    df_control = bi_samp.query('group == \\\"control\\\"')\\n    df_experiment = bi_samp.query('group == \\\"experiment\\\"')\\n    ctr_new = (\\n        df_control.query('action == \\\"click\\\"').id.nunique()\\n        / df_control.query('action == \\\"view\\\"').id.nunique()\\n    )\\n    ctr_new = (\\n        df_experiment.query('action == \\\"click\\\"').id.nunique()\\n        / df_experiment.query('action == \\\"view\\\"').id.nunique()\\n    )\\n    diffs.append(ctr_new - ctr_old)\";\n",
       "                var nbb_cells = Jupyter.notebook.get_cells();\n",
       "                for (var i = 0; i < nbb_cells.length; ++i) {\n",
       "                    if (nbb_cells[i].input_prompt_number == nbb_cell_id) {\n",
       "                        if (nbb_cells[i].get_text() == nbb_unformatted_code) {\n",
       "                             nbb_cells[i].set_text(nbb_formatted_code);\n",
       "                        }\n",
       "                        break;\n",
       "                    }\n",
       "                }\n",
       "            }, 500);\n",
       "            "
      ],
      "text/plain": [
       "<IPython.core.display.Javascript object>"
      ]
     },
     "metadata": {},
     "output_type": "display_data"
    }
   ],
   "source": [
    "diffs = []\n",
    "for _ in range(10000):\n",
    "    bi_samp = df1.sample(df1.shape[0], replace=True)\n",
    "    df_control = bi_samp.query('group == \"control\"')\n",
    "    df_experiment = bi_samp.query('group == \"experiment\"')\n",
    "    ctr_new = (\n",
    "        df_control.query('action == \"click\"').id.nunique()\n",
    "        / df_control.query('action == \"view\"').id.nunique()\n",
    "    )\n",
    "    ctr_new = (\n",
    "        df_experiment.query('action == \"click\"').id.nunique()\n",
    "        / df_experiment.query('action == \"view\"').id.nunique()\n",
    "    )\n",
    "    diffs.append(ctr_new - ctr_old)"
   ]
  },
  {
   "cell_type": "code",
   "execution_count": 33,
   "id": "ba544003",
   "metadata": {},
   "outputs": [
    {
     "data": {
      "text/plain": [
       "(array([   8.,   58.,  352., 1352., 2669., 2953., 1847.,  613.,  136.,\n",
       "          12.]),\n",
       " array([-0.00618551,  0.00080638,  0.00779827,  0.01479016,  0.02178205,\n",
       "         0.02877394,  0.03576584,  0.04275773,  0.04974962,  0.05674151,\n",
       "         0.0637334 ]),\n",
       " <BarContainer object of 10 artists>)"
      ]
     },
     "execution_count": 33,
     "metadata": {},
     "output_type": "execute_result"
    },
    {
     "data": {
      "image/png": "[encoded data removed]",
      "text/plain": [
       "<Figure size 640x480 with 1 Axes>"
      ]
     },
     "metadata": {},
     "output_type": "display_data"
    },
    {
     "data": {
      "application/javascript": [
       "\n",
       "            setTimeout(function() {\n",
       "                var nbb_cell_id = 33;\n",
       "                var nbb_unformatted_code = \"plt.hist(diffs)\";\n",
       "                var nbb_formatted_code = \"plt.hist(diffs)\";\n",
       "                var nbb_cells = Jupyter.notebook.get_cells();\n",
       "                for (var i = 0; i < nbb_cells.length; ++i) {\n",
       "                    if (nbb_cells[i].input_prompt_number == nbb_cell_id) {\n",
       "                        if (nbb_cells[i].get_text() == nbb_unformatted_code) {\n",
       "                             nbb_cells[i].set_text(nbb_formatted_code);\n",
       "                        }\n",
       "                        break;\n",
       "                    }\n",
       "                }\n",
       "            }, 500);\n",
       "            "
      ],
      "text/plain": [
       "<IPython.core.display.Javascript object>"
      ]
     },
     "metadata": {},
     "output_type": "display_data"
    }
   ],
   "source": [
    "plt.hist(diffs)"
   ]
  },
  {
   "cell_type": "code",
   "execution_count": 34,
   "id": "23580cf8",
   "metadata": {},
   "outputs": [
    {
     "data": {
      "application/javascript": [
       "\n",
       "            setTimeout(function() {\n",
       "                var nbb_cell_id = 34;\n",
       "                var nbb_unformatted_code = \"diffs = np.array(diffs)\\nnull_vals = np.random.normal(0, diffs.std(), diffs.size)\";\n",
       "                var nbb_formatted_code = \"diffs = np.array(diffs)\\nnull_vals = np.random.normal(0, diffs.std(), diffs.size)\";\n",
       "                var nbb_cells = Jupyter.notebook.get_cells();\n",
       "                for (var i = 0; i < nbb_cells.length; ++i) {\n",
       "                    if (nbb_cells[i].input_prompt_number == nbb_cell_id) {\n",
       "                        if (nbb_cells[i].get_text() == nbb_unformatted_code) {\n",
       "                             nbb_cells[i].set_text(nbb_formatted_code);\n",
       "                        }\n",
       "                        break;\n",
       "                    }\n",
       "                }\n",
       "            }, 500);\n",
       "            "
      ],
      "text/plain": [
       "<IPython.core.display.Javascript object>"
      ]
     },
     "metadata": {},
     "output_type": "display_data"
    }
   ],
   "source": [
    "diffs = np.array(diffs)\n",
    "null_vals = np.random.normal(0, diffs.std(), diffs.size)"
   ]
  },
  {
   "cell_type": "markdown",
   "id": "765f4962",
   "metadata": {},
   "source": [
    "- plot null distribution "
   ]
  },
  {
   "cell_type": "code",
   "execution_count": 35,
   "id": "79772a1b",
   "metadata": {
    "scrolled": true
   },
   "outputs": [
    {
     "data": {
      "image/png": "[encoded data removed]",
      "text/plain": [
       "<Figure size 640x480 with 1 Axes>"
      ]
     },
     "metadata": {},
     "output_type": "display_data"
    },
    {
     "data": {
      "application/javascript": [
       "\n",
       "            setTimeout(function() {\n",
       "                var nbb_cell_id = 35;\n",
       "                var nbb_unformatted_code = \"plt.hist(null_vals);\";\n",
       "                var nbb_formatted_code = \"plt.hist(null_vals)\";\n",
       "                var nbb_cells = Jupyter.notebook.get_cells();\n",
       "                for (var i = 0; i < nbb_cells.length; ++i) {\n",
       "                    if (nbb_cells[i].input_prompt_number == nbb_cell_id) {\n",
       "                        if (nbb_cells[i].get_text() == nbb_unformatted_code) {\n",
       "                             nbb_cells[i].set_text(nbb_formatted_code);\n",
       "                        }\n",
       "                        break;\n",
       "                    }\n",
       "                }\n",
       "            }, 500);\n",
       "            "
      ],
      "text/plain": [
       "<IPython.core.display.Javascript object>"
      ]
     },
     "metadata": {},
     "output_type": "display_data"
    }
   ],
   "source": [
    "plt.hist(null_vals);\n"
   ]
  },
  {
   "cell_type": "markdown",
   "id": "87c02fc7",
   "metadata": {},
   "source": [
    "visualize the distribution of the statistic $CTR_{diff}$ and assess if it aligns with our desired distribution "
   ]
  },
  {
   "cell_type": "code",
   "execution_count": 36,
   "id": "15fc8d66",
   "metadata": {},
   "outputs": [
    {
     "data": {
      "text/plain": [
       "<matplotlib.lines.Line2D at 0x7ff0e9d1c730>"
      ]
     },
     "execution_count": 36,
     "metadata": {},
     "output_type": "execute_result"
    },
    {
     "data": {
      "image/png": "[encoded data removed]",
      "text/plain": [
       "<Figure size 640x480 with 1 Axes>"
      ]
     },
     "metadata": {},
     "output_type": "display_data"
    },
    {
     "data": {
      "application/javascript": [
       "\n",
       "            setTimeout(function() {\n",
       "                var nbb_cell_id = 36;\n",
       "                var nbb_unformatted_code = \"plt.hist(null_vals)\\nplt.axvline(x=ctr_diff, color=\\\"red\\\")\";\n",
       "                var nbb_formatted_code = \"plt.hist(null_vals)\\nplt.axvline(x=ctr_diff, color=\\\"red\\\")\";\n",
       "                var nbb_cells = Jupyter.notebook.get_cells();\n",
       "                for (var i = 0; i < nbb_cells.length; ++i) {\n",
       "                    if (nbb_cells[i].input_prompt_number == nbb_cell_id) {\n",
       "                        if (nbb_cells[i].get_text() == nbb_unformatted_code) {\n",
       "                             nbb_cells[i].set_text(nbb_formatted_code);\n",
       "                        }\n",
       "                        break;\n",
       "                    }\n",
       "                }\n",
       "            }, 500);\n",
       "            "
      ],
      "text/plain": [
       "<IPython.core.display.Javascript object>"
      ]
     },
     "metadata": {},
     "output_type": "display_data"
    }
   ],
   "source": [
    "plt.hist(null_vals)\n",
    "plt.axvline(x=ctr_diff, color=\"red\")"
   ]
  },
  {
   "cell_type": "markdown",
   "id": "9066004d",
   "metadata": {},
   "source": [
    "To assess the significance of our observed difference by computing its mean $CTR_{diff} = CTR_{new} - CTR_{old}$ \n",
    "we establish the following hypotheses: $H_0$ The click-through rate for the old design is greater than or equal to the CTR for the new design. and $H_1$ The CTR for the old design is less than the CTR for the new design.\n",
    "\n",
    "$$H_0:  CTR_{old} > = CTR_{new} $$ \n",
    "     $$H_1: CTR_{old} < CTR_{new}  $$"
   ]
  },
  {
   "cell_type": "code",
   "execution_count": 37,
   "id": "a8b29d11",
   "metadata": {},
   "outputs": [
    {
     "data": {
      "text/plain": [
       "0.0002"
      ]
     },
     "execution_count": 37,
     "metadata": {},
     "output_type": "execute_result"
    },
    {
     "data": {
      "application/javascript": [
       "\n",
       "            setTimeout(function() {\n",
       "                var nbb_cell_id = 37;\n",
       "                var nbb_unformatted_code = \"(null_vals > ctr_diff).mean()\";\n",
       "                var nbb_formatted_code = \"(null_vals > ctr_diff).mean()\";\n",
       "                var nbb_cells = Jupyter.notebook.get_cells();\n",
       "                for (var i = 0; i < nbb_cells.length; ++i) {\n",
       "                    if (nbb_cells[i].input_prompt_number == nbb_cell_id) {\n",
       "                        if (nbb_cells[i].get_text() == nbb_unformatted_code) {\n",
       "                             nbb_cells[i].set_text(nbb_formatted_code);\n",
       "                        }\n",
       "                        break;\n",
       "                    }\n",
       "                }\n",
       "            }, 500);\n",
       "            "
      ],
      "text/plain": [
       "<IPython.core.display.Javascript object>"
      ]
     },
     "metadata": {},
     "output_type": "display_data"
    }
   ],
   "source": [
    "(null_vals > ctr_diff).mean()"
   ]
  },
  {
   "cell_type": "markdown",
   "id": "7c8268cb",
   "metadata": {},
   "source": [
    "With a p-value of less than 0.01, it seems unlikely that the statistic is from the null. we can reject the null and take the alternative hypothesis $H_1$ "
   ]
  },
  {
   "cell_type": "markdown",
   "id": "9b29f3f1",
   "metadata": {},
   "source": [
    "### 8. Conclusion: \n",
    "We reject the null hypothesis, suggesting that there's evidence to support launching Audacity's experiment (new) page."
   ]
  },
  {
   "cell_type": "markdown",
   "id": "daf28789",
   "metadata": {},
   "source": [
    "### Metric # 2 - Enrollment Rate\n",
    "\n",
    "Enrollment rate is a metric used to measure the proportion of users who enroll in a course or program out of the total number of users who visited the enrollment page.\n",
    "\n",
    "The formula for Click-Through Rate for enrollment (ER) is:\n",
    "$$ ER = \\frac{Number\\ of\\ enrolled unique users}{Number\\ of\\ Impressions} $$\n",
    "Where:\n",
    "- \\( Number of enrollment \\) is the total number of enrolled users.\n",
    "- \\( Number of Impressions \\) is the total number of users.\n"
   ]
  },
  {
   "cell_type": "code",
   "execution_count": 38,
   "id": "17c55d80",
   "metadata": {},
   "outputs": [
    {
     "data": {
      "text/html": [
       "<div>\n",
       "<style scoped>\n",
       "    .dataframe tbody tr th:only-of-type {\n",
       "        vertical-align: middle;\n",
       "    }\n",
       "\n",
       "    .dataframe tbody tr th {\n",
       "        vertical-align: top;\n",
       "    }\n",
       "\n",
       "    .dataframe thead th {\n",
       "        text-align: right;\n",
       "    }\n",
       "</style>\n",
       "<table border=\"1\" class=\"dataframe\">\n",
       "  <thead>\n",
       "    <tr style=\"text-align: right;\">\n",
       "      <th></th>\n",
       "      <th>timestamp</th>\n",
       "      <th>id</th>\n",
       "      <th>group</th>\n",
       "      <th>action</th>\n",
       "      <th>duration</th>\n",
       "    </tr>\n",
       "  </thead>\n",
       "  <tbody>\n",
       "    <tr>\n",
       "      <th>0</th>\n",
       "      <td>2016-09-24 17:14:52.012145</td>\n",
       "      <td>261869</td>\n",
       "      <td>experiment</td>\n",
       "      <td>view</td>\n",
       "      <td>130.545004</td>\n",
       "    </tr>\n",
       "    <tr>\n",
       "      <th>1</th>\n",
       "      <td>2016-09-24 18:45:09.645857</td>\n",
       "      <td>226546</td>\n",
       "      <td>experiment</td>\n",
       "      <td>view</td>\n",
       "      <td>159.862440</td>\n",
       "    </tr>\n",
       "    <tr>\n",
       "      <th>2</th>\n",
       "      <td>2016-09-24 19:16:21.002533</td>\n",
       "      <td>286353</td>\n",
       "      <td>experiment</td>\n",
       "      <td>view</td>\n",
       "      <td>79.349315</td>\n",
       "    </tr>\n",
       "    <tr>\n",
       "      <th>3</th>\n",
       "      <td>2016-09-24 19:43:06.927785</td>\n",
       "      <td>842279</td>\n",
       "      <td>experiment</td>\n",
       "      <td>view</td>\n",
       "      <td>55.536126</td>\n",
       "    </tr>\n",
       "    <tr>\n",
       "      <th>4</th>\n",
       "      <td>2016-09-24 21:08:22.790333</td>\n",
       "      <td>781883</td>\n",
       "      <td>experiment</td>\n",
       "      <td>view</td>\n",
       "      <td>204.322437</td>\n",
       "    </tr>\n",
       "  </tbody>\n",
       "</table>\n",
       "</div>"
      ],
      "text/plain": [
       "                    timestamp      id       group action    duration\n",
       "0  2016-09-24 17:14:52.012145  261869  experiment   view  130.545004\n",
       "1  2016-09-24 18:45:09.645857  226546  experiment   view  159.862440\n",
       "2  2016-09-24 19:16:21.002533  286353  experiment   view   79.349315\n",
       "3  2016-09-24 19:43:06.927785  842279  experiment   view   55.536126\n",
       "4  2016-09-24 21:08:22.790333  781883  experiment   view  204.322437"
      ]
     },
     "execution_count": 38,
     "metadata": {},
     "output_type": "execute_result"
    },
    {
     "data": {
      "application/javascript": [
       "\n",
       "            setTimeout(function() {\n",
       "                var nbb_cell_id = 38;\n",
       "                var nbb_unformatted_code = \"df2 = pd.read_csv(\\\"course_page_actions.csv\\\")\\ndf2.head()\";\n",
       "                var nbb_formatted_code = \"df2 = pd.read_csv(\\\"course_page_actions.csv\\\")\\ndf2.head()\";\n",
       "                var nbb_cells = Jupyter.notebook.get_cells();\n",
       "                for (var i = 0; i < nbb_cells.length; ++i) {\n",
       "                    if (nbb_cells[i].input_prompt_number == nbb_cell_id) {\n",
       "                        if (nbb_cells[i].get_text() == nbb_unformatted_code) {\n",
       "                             nbb_cells[i].set_text(nbb_formatted_code);\n",
       "                        }\n",
       "                        break;\n",
       "                    }\n",
       "                }\n",
       "            }, 500);\n",
       "            "
      ],
      "text/plain": [
       "<IPython.core.display.Javascript object>"
      ]
     },
     "metadata": {},
     "output_type": "display_data"
    }
   ],
   "source": [
    "df2 = pd.read_csv(\"course_page_actions.csv\")\n",
    "df2.head()"
   ]
  },
  {
   "cell_type": "markdown",
   "id": "bdedff7f",
   "metadata": {},
   "source": [
    "CTR of enrollment button for experiment and control groups for course page are:"
   ]
  },
  {
   "cell_type": "code",
   "execution_count": 39,
   "id": "e0a5c576",
   "metadata": {},
   "outputs": [
    {
     "data": {
      "text/plain": [
       "0.2364438839848676"
      ]
     },
     "execution_count": 39,
     "metadata": {},
     "output_type": "execute_result"
    },
    {
     "data": {
      "application/javascript": [
       "\n",
       "            setTimeout(function() {\n",
       "                var nbb_cell_id = 39;\n",
       "                var nbb_unformatted_code = \"df_control = df2.query('group == \\\"control\\\"')\\ner_old = (\\n    df_control.query('action == \\\"enroll\\\"').id.nunique()\\n    / df_control.query('action == \\\"view\\\"').id.nunique()\\n)\\ner_old\";\n",
       "                var nbb_formatted_code = \"df_control = df2.query('group == \\\"control\\\"')\\ner_old = (\\n    df_control.query('action == \\\"enroll\\\"').id.nunique()\\n    / df_control.query('action == \\\"view\\\"').id.nunique()\\n)\\ner_old\";\n",
       "                var nbb_cells = Jupyter.notebook.get_cells();\n",
       "                for (var i = 0; i < nbb_cells.length; ++i) {\n",
       "                    if (nbb_cells[i].input_prompt_number == nbb_cell_id) {\n",
       "                        if (nbb_cells[i].get_text() == nbb_unformatted_code) {\n",
       "                             nbb_cells[i].set_text(nbb_formatted_code);\n",
       "                        }\n",
       "                        break;\n",
       "                    }\n",
       "                }\n",
       "            }, 500);\n",
       "            "
      ],
      "text/plain": [
       "<IPython.core.display.Javascript object>"
      ]
     },
     "metadata": {},
     "output_type": "display_data"
    }
   ],
   "source": [
    "df_control = df2.query('group == \"control\"')\n",
    "er_old = (\n",
    "    df_control.query('action == \"enroll\"').id.nunique()\n",
    "    / df_control.query('action == \"view\"').id.nunique()\n",
    ")\n",
    "er_old"
   ]
  },
  {
   "cell_type": "code",
   "execution_count": 40,
   "id": "e4754fa7",
   "metadata": {},
   "outputs": [
    {
     "data": {
      "text/plain": [
       "0.2668693009118541"
      ]
     },
     "execution_count": 40,
     "metadata": {},
     "output_type": "execute_result"
    },
    {
     "data": {
      "application/javascript": [
       "\n",
       "            setTimeout(function() {\n",
       "                var nbb_cell_id = 40;\n",
       "                var nbb_unformatted_code = \"df_experiment = df2.query('group == \\\"experiment\\\"')\\ner_new = (\\n    df_experiment.query('action == \\\"enroll\\\"').id.nunique()\\n    / df_experiment.query('action == \\\"view\\\"').id.nunique()\\n)\\ner_new\";\n",
       "                var nbb_formatted_code = \"df_experiment = df2.query('group == \\\"experiment\\\"')\\ner_new = (\\n    df_experiment.query('action == \\\"enroll\\\"').id.nunique()\\n    / df_experiment.query('action == \\\"view\\\"').id.nunique()\\n)\\ner_new\";\n",
       "                var nbb_cells = Jupyter.notebook.get_cells();\n",
       "                for (var i = 0; i < nbb_cells.length; ++i) {\n",
       "                    if (nbb_cells[i].input_prompt_number == nbb_cell_id) {\n",
       "                        if (nbb_cells[i].get_text() == nbb_unformatted_code) {\n",
       "                             nbb_cells[i].set_text(nbb_formatted_code);\n",
       "                        }\n",
       "                        break;\n",
       "                    }\n",
       "                }\n",
       "            }, 500);\n",
       "            "
      ],
      "text/plain": [
       "<IPython.core.display.Javascript object>"
      ]
     },
     "metadata": {},
     "output_type": "display_data"
    }
   ],
   "source": [
    "df_experiment = df2.query('group == \"experiment\"')\n",
    "er_new = (\n",
    "    df_experiment.query('action == \"enroll\"').id.nunique()\n",
    "    / df_experiment.query('action == \"view\"').id.nunique()\n",
    ")\n",
    "er_new"
   ]
  },
  {
   "cell_type": "code",
   "execution_count": 41,
   "id": "c7f96716",
   "metadata": {},
   "outputs": [
    {
     "data": {
      "text/plain": [
       "0.030425416926986526"
      ]
     },
     "execution_count": 41,
     "metadata": {},
     "output_type": "execute_result"
    },
    {
     "data": {
      "application/javascript": [
       "\n",
       "            setTimeout(function() {\n",
       "                var nbb_cell_id = 41;\n",
       "                var nbb_unformatted_code = \"er_diff = er_new - er_old\\ner_diff\";\n",
       "                var nbb_formatted_code = \"er_diff = er_new - er_old\\ner_diff\";\n",
       "                var nbb_cells = Jupyter.notebook.get_cells();\n",
       "                for (var i = 0; i < nbb_cells.length; ++i) {\n",
       "                    if (nbb_cells[i].input_prompt_number == nbb_cell_id) {\n",
       "                        if (nbb_cells[i].get_text() == nbb_unformatted_code) {\n",
       "                             nbb_cells[i].set_text(nbb_formatted_code);\n",
       "                        }\n",
       "                        break;\n",
       "                    }\n",
       "                }\n",
       "            }, 500);\n",
       "            "
      ],
      "text/plain": [
       "<IPython.core.display.Javascript object>"
      ]
     },
     "metadata": {},
     "output_type": "display_data"
    }
   ],
   "source": [
    "er_diff = er_new - er_old\n",
    "er_diff"
   ]
  },
  {
   "cell_type": "code",
   "execution_count": 42,
   "id": "e92a0f28",
   "metadata": {},
   "outputs": [
    {
     "data": {
      "application/javascript": [
       "\n",
       "            setTimeout(function() {\n",
       "                var nbb_cell_id = 42;\n",
       "                var nbb_unformatted_code = \"# Create a sampling distribution of the ER_diff in proportions with bootstraping\\n\\ndiffs = []\\nfor _ in range(1000):\\n    bi_samp = df2.sample(df2.shape[0], replace=True)\\n    df_control = bi_samp.query('group == \\\"control\\\"')\\n    df_experiment = bi_samp.query('group == \\\"experiment\\\"')\\n    er_old = (\\n        df_control.query('action == \\\"enroll\\\"').id.nunique()\\n        / df_control.query('action == \\\"view\\\"').id.nunique()\\n    )\\n    er_new = (\\n        df_experiment.query('action == \\\"enroll\\\"').id.nunique()\\n        / df_experiment.query('action == \\\"view\\\"').id.nunique()\\n    )\\n    diffs.append(er_new - er_old)\";\n",
       "                var nbb_formatted_code = \"# Create a sampling distribution of the ER_diff in proportions with bootstraping\\n\\ndiffs = []\\nfor _ in range(1000):\\n    bi_samp = df2.sample(df2.shape[0], replace=True)\\n    df_control = bi_samp.query('group == \\\"control\\\"')\\n    df_experiment = bi_samp.query('group == \\\"experiment\\\"')\\n    er_old = (\\n        df_control.query('action == \\\"enroll\\\"').id.nunique()\\n        / df_control.query('action == \\\"view\\\"').id.nunique()\\n    )\\n    er_new = (\\n        df_experiment.query('action == \\\"enroll\\\"').id.nunique()\\n        / df_experiment.query('action == \\\"view\\\"').id.nunique()\\n    )\\n    diffs.append(er_new - er_old)\";\n",
       "                var nbb_cells = Jupyter.notebook.get_cells();\n",
       "                for (var i = 0; i < nbb_cells.length; ++i) {\n",
       "                    if (nbb_cells[i].input_prompt_number == nbb_cell_id) {\n",
       "                        if (nbb_cells[i].get_text() == nbb_unformatted_code) {\n",
       "                             nbb_cells[i].set_text(nbb_formatted_code);\n",
       "                        }\n",
       "                        break;\n",
       "                    }\n",
       "                }\n",
       "            }, 500);\n",
       "            "
      ],
      "text/plain": [
       "<IPython.core.display.Javascript object>"
      ]
     },
     "metadata": {},
     "output_type": "display_data"
    }
   ],
   "source": [
    "# Create a sampling distribution of the ER_diff in proportions with bootstraping\n",
    "\n",
    "diffs = []\n",
    "for _ in range(1000):\n",
    "    bi_samp = df2.sample(df2.shape[0], replace=True)\n",
    "    df_control = bi_samp.query('group == \"control\"')\n",
    "    df_experiment = bi_samp.query('group == \"experiment\"')\n",
    "    er_old = (\n",
    "        df_control.query('action == \"enroll\"').id.nunique()\n",
    "        / df_control.query('action == \"view\"').id.nunique()\n",
    "    )\n",
    "    er_new = (\n",
    "        df_experiment.query('action == \"enroll\"').id.nunique()\n",
    "        / df_experiment.query('action == \"view\"').id.nunique()\n",
    "    )\n",
    "    diffs.append(er_new - er_old)"
   ]
  },
  {
   "cell_type": "code",
   "execution_count": 43,
   "id": "cf9e9f48",
   "metadata": {},
   "outputs": [
    {
     "data": {
      "text/plain": [
       "(array([ 10.,  45., 120., 236., 245., 194., 103.,  37.,   7.,   3.]),\n",
       " array([-0.01251697, -0.00266527,  0.00718643,  0.01703813,  0.02688984,\n",
       "         0.03674154,  0.04659324,  0.05644494,  0.06629665,  0.07614835,\n",
       "         0.08600005]),\n",
       " <BarContainer object of 10 artists>)"
      ]
     },
     "execution_count": 43,
     "metadata": {},
     "output_type": "execute_result"
    },
    {
     "data": {
      "image/png": "[encoded data removed]",
      "text/plain": [
       "<Figure size 640x480 with 1 Axes>"
      ]
     },
     "metadata": {},
     "output_type": "display_data"
    },
    {
     "data": {
      "application/javascript": [
       "\n",
       "            setTimeout(function() {\n",
       "                var nbb_cell_id = 43;\n",
       "                var nbb_unformatted_code = \"# making diffs a numpy array and then plotting it\\ndiffs = np.array(diffs)\\n\\nplt.hist(diffs)\";\n",
       "                var nbb_formatted_code = \"# making diffs a numpy array and then plotting it\\ndiffs = np.array(diffs)\\n\\nplt.hist(diffs)\";\n",
       "                var nbb_cells = Jupyter.notebook.get_cells();\n",
       "                for (var i = 0; i < nbb_cells.length; ++i) {\n",
       "                    if (nbb_cells[i].input_prompt_number == nbb_cell_id) {\n",
       "                        if (nbb_cells[i].get_text() == nbb_unformatted_code) {\n",
       "                             nbb_cells[i].set_text(nbb_formatted_code);\n",
       "                        }\n",
       "                        break;\n",
       "                    }\n",
       "                }\n",
       "            }, 500);\n",
       "            "
      ],
      "text/plain": [
       "<IPython.core.display.Javascript object>"
      ]
     },
     "metadata": {},
     "output_type": "display_data"
    }
   ],
   "source": [
    "# making diffs a numpy array and then plotting it\n",
    "diffs = np.array(diffs)\n",
    "\n",
    "plt.hist(diffs)"
   ]
  },
  {
   "cell_type": "code",
   "execution_count": 44,
   "id": "b9bbf3ff",
   "metadata": {},
   "outputs": [
    {
     "data": {
      "text/plain": [
       "(array([  3.,  14.,  66., 161., 250., 267., 158.,  57.,  21.,   3.]),\n",
       " array([-0.0499524 , -0.04002287, -0.03009334, -0.02016381, -0.01023427,\n",
       "        -0.00030474,  0.00962479,  0.01955432,  0.02948386,  0.03941339,\n",
       "         0.04934292]),\n",
       " <BarContainer object of 10 artists>)"
      ]
     },
     "execution_count": 44,
     "metadata": {},
     "output_type": "execute_result"
    },
    {
     "data": {
      "image/png": "[encoded data removed]",
      "text/plain": [
       "<Figure size 640x480 with 1 Axes>"
      ]
     },
     "metadata": {},
     "output_type": "display_data"
    },
    {
     "data": {
      "application/javascript": [
       "\n",
       "            setTimeout(function() {\n",
       "                var nbb_cell_id = 44;\n",
       "                var nbb_unformatted_code = \"# simulating the distribution under null hypothesis\\nnull_vals = np.random.normal(0, diffs.std(), diffs.size)\\n\\nplt.hist(null_vals)\";\n",
       "                var nbb_formatted_code = \"# simulating the distribution under null hypothesis\\nnull_vals = np.random.normal(0, diffs.std(), diffs.size)\\n\\nplt.hist(null_vals)\";\n",
       "                var nbb_cells = Jupyter.notebook.get_cells();\n",
       "                for (var i = 0; i < nbb_cells.length; ++i) {\n",
       "                    if (nbb_cells[i].input_prompt_number == nbb_cell_id) {\n",
       "                        if (nbb_cells[i].get_text() == nbb_unformatted_code) {\n",
       "                             nbb_cells[i].set_text(nbb_formatted_code);\n",
       "                        }\n",
       "                        break;\n",
       "                    }\n",
       "                }\n",
       "            }, 500);\n",
       "            "
      ],
      "text/plain": [
       "<IPython.core.display.Javascript object>"
      ]
     },
     "metadata": {},
     "output_type": "display_data"
    }
   ],
   "source": [
    "# simulating the distribution under null hypothesis\n",
    "null_vals = np.random.normal(0, diffs.std(), diffs.size)\n",
    "\n",
    "plt.hist(null_vals)"
   ]
  },
  {
   "cell_type": "code",
   "execution_count": 45,
   "id": "ecd57a83",
   "metadata": {},
   "outputs": [
    {
     "data": {
      "text/plain": [
       "<matplotlib.lines.Line2D at 0x7ff0dad253a0>"
      ]
     },
     "execution_count": 45,
     "metadata": {},
     "output_type": "execute_result"
    },
    {
     "data": {
      "image/png": "[encoded data removed]",
      "text/plain": [
       "<Figure size 640x480 with 1 Axes>"
      ]
     },
     "metadata": {},
     "output_type": "display_data"
    },
    {
     "data": {
      "application/javascript": [
       "\n",
       "            setTimeout(function() {\n",
       "                var nbb_cell_id = 45;\n",
       "                var nbb_unformatted_code = \"# plot observed CTR with the null dist\\nplt.hist(null_vals)\\nplt.axvline(x=ctr_diff, color=\\\"red\\\")\";\n",
       "                var nbb_formatted_code = \"# plot observed CTR with the null dist\\nplt.hist(null_vals)\\nplt.axvline(x=ctr_diff, color=\\\"red\\\")\";\n",
       "                var nbb_cells = Jupyter.notebook.get_cells();\n",
       "                for (var i = 0; i < nbb_cells.length; ++i) {\n",
       "                    if (nbb_cells[i].input_prompt_number == nbb_cell_id) {\n",
       "                        if (nbb_cells[i].get_text() == nbb_unformatted_code) {\n",
       "                             nbb_cells[i].set_text(nbb_formatted_code);\n",
       "                        }\n",
       "                        break;\n",
       "                    }\n",
       "                }\n",
       "            }, 500);\n",
       "            "
      ],
      "text/plain": [
       "<IPython.core.display.Javascript object>"
      ]
     },
     "metadata": {},
     "output_type": "display_data"
    }
   ],
   "source": [
    "# plot observed CTR with the null dist\n",
    "plt.hist(null_vals)\n",
    "plt.axvline(x=ctr_diff, color=\"red\")"
   ]
  },
  {
   "cell_type": "code",
   "execution_count": 46,
   "id": "f7d76ac8",
   "metadata": {},
   "outputs": [
    {
     "data": {
      "text/plain": [
       "0.023"
      ]
     },
     "execution_count": 46,
     "metadata": {},
     "output_type": "execute_result"
    },
    {
     "data": {
      "application/javascript": [
       "\n",
       "            setTimeout(function() {\n",
       "                var nbb_cell_id = 46;\n",
       "                var nbb_unformatted_code = \"# compute p-value\\n(null_vals > ctr_diff).mean()\";\n",
       "                var nbb_formatted_code = \"# compute p-value\\n(null_vals > ctr_diff).mean()\";\n",
       "                var nbb_cells = Jupyter.notebook.get_cells();\n",
       "                for (var i = 0; i < nbb_cells.length; ++i) {\n",
       "                    if (nbb_cells[i].input_prompt_number == nbb_cell_id) {\n",
       "                        if (nbb_cells[i].get_text() == nbb_unformatted_code) {\n",
       "                             nbb_cells[i].set_text(nbb_formatted_code);\n",
       "                        }\n",
       "                        break;\n",
       "                    }\n",
       "                }\n",
       "            }, 500);\n",
       "            "
      ],
      "text/plain": [
       "<IPython.core.display.Javascript object>"
      ]
     },
     "metadata": {},
     "output_type": "display_data"
    }
   ],
   "source": [
    "# compute p-value\n",
    "(null_vals > ctr_diff).mean()"
   ]
  },
  {
   "cell_type": "markdown",
   "id": "d0f58c84",
   "metadata": {},
   "source": [
    "With a type I error rate of 0.05 and a p-value of 0.021, it seems unlikely that the statistic is from the null. we can reject the null and take the alternative hypothesis $H_1$ "
   ]
  },
  {
   "cell_type": "markdown",
   "id": "6f839f88",
   "metadata": {},
   "source": [
    "### Conclusion: \n",
    "\n",
    "This indicates that there is sufficient evidence to conclude that the enrollment rate for this course increases when using the experimental description on its overview page at a significance level of 0.05.\n"
   ]
  },
  {
   "cell_type": "markdown",
   "id": "321cc60c",
   "metadata": {},
   "source": [
    "### Metric # 3 - Average Reading Duration\n",
    "Average reading duration refers to the mean amount of time spent by users reading content, typically measured in seconds. It provides insight into user engagement and interest in the material presented.\n",
    "\n",
    "The formula to calculate average reading duration is: \n",
    "\n",
    "\n",
    "Average Reading Duration  = Total Reading Time/ Number of Users = mean(Reading Time)\n",
    "\n",
    "Where:\n",
    "\n",
    "__Total Reading Time__ is the sum of reading times for all users.\n",
    "__Number of Users__ is the total number of users who engaged with the content."
   ]
  },
  {
   "cell_type": "code",
   "execution_count": 47,
   "id": "5479da2c",
   "metadata": {},
   "outputs": [
    {
     "data": {
      "text/html": [
       "<div>\n",
       "<style scoped>\n",
       "    .dataframe tbody tr th:only-of-type {\n",
       "        vertical-align: middle;\n",
       "    }\n",
       "\n",
       "    .dataframe tbody tr th {\n",
       "        vertical-align: top;\n",
       "    }\n",
       "\n",
       "    .dataframe thead th {\n",
       "        text-align: right;\n",
       "    }\n",
       "</style>\n",
       "<table border=\"1\" class=\"dataframe\">\n",
       "  <thead>\n",
       "    <tr style=\"text-align: right;\">\n",
       "      <th></th>\n",
       "      <th>timestamp</th>\n",
       "      <th>id</th>\n",
       "      <th>group</th>\n",
       "      <th>action</th>\n",
       "      <th>duration</th>\n",
       "    </tr>\n",
       "  </thead>\n",
       "  <tbody>\n",
       "    <tr>\n",
       "      <th>0</th>\n",
       "      <td>2016-09-24 17:14:52.012145</td>\n",
       "      <td>261869</td>\n",
       "      <td>experiment</td>\n",
       "      <td>view</td>\n",
       "      <td>130.545004</td>\n",
       "    </tr>\n",
       "    <tr>\n",
       "      <th>1</th>\n",
       "      <td>2016-09-24 18:45:09.645857</td>\n",
       "      <td>226546</td>\n",
       "      <td>experiment</td>\n",
       "      <td>view</td>\n",
       "      <td>159.862440</td>\n",
       "    </tr>\n",
       "    <tr>\n",
       "      <th>2</th>\n",
       "      <td>2016-09-24 19:16:21.002533</td>\n",
       "      <td>286353</td>\n",
       "      <td>experiment</td>\n",
       "      <td>view</td>\n",
       "      <td>79.349315</td>\n",
       "    </tr>\n",
       "    <tr>\n",
       "      <th>3</th>\n",
       "      <td>2016-09-24 19:43:06.927785</td>\n",
       "      <td>842279</td>\n",
       "      <td>experiment</td>\n",
       "      <td>view</td>\n",
       "      <td>55.536126</td>\n",
       "    </tr>\n",
       "    <tr>\n",
       "      <th>4</th>\n",
       "      <td>2016-09-24 21:08:22.790333</td>\n",
       "      <td>781883</td>\n",
       "      <td>experiment</td>\n",
       "      <td>view</td>\n",
       "      <td>204.322437</td>\n",
       "    </tr>\n",
       "    <tr>\n",
       "      <th>...</th>\n",
       "      <td>...</td>\n",
       "      <td>...</td>\n",
       "      <td>...</td>\n",
       "      <td>...</td>\n",
       "      <td>...</td>\n",
       "    </tr>\n",
       "    <tr>\n",
       "      <th>4069</th>\n",
       "      <td>2017-01-18 09:39:08.046251</td>\n",
       "      <td>931490</td>\n",
       "      <td>control</td>\n",
       "      <td>view</td>\n",
       "      <td>58.846204</td>\n",
       "    </tr>\n",
       "    <tr>\n",
       "      <th>4070</th>\n",
       "      <td>2017-01-18 09:44:15.239671</td>\n",
       "      <td>410222</td>\n",
       "      <td>experiment</td>\n",
       "      <td>enroll</td>\n",
       "      <td>101.231821</td>\n",
       "    </tr>\n",
       "    <tr>\n",
       "      <th>4071</th>\n",
       "      <td>2017-01-18 09:56:26.948171</td>\n",
       "      <td>364458</td>\n",
       "      <td>control</td>\n",
       "      <td>view</td>\n",
       "      <td>293.490566</td>\n",
       "    </tr>\n",
       "    <tr>\n",
       "      <th>4072</th>\n",
       "      <td>2017-01-18 10:10:18.293253</td>\n",
       "      <td>443603</td>\n",
       "      <td>experiment</td>\n",
       "      <td>view</td>\n",
       "      <td>149.026959</td>\n",
       "    </tr>\n",
       "    <tr>\n",
       "      <th>4073</th>\n",
       "      <td>2017-01-18 10:38:20.939958</td>\n",
       "      <td>540111</td>\n",
       "      <td>experiment</td>\n",
       "      <td>view</td>\n",
       "      <td>62.039341</td>\n",
       "    </tr>\n",
       "  </tbody>\n",
       "</table>\n",
       "<p>4074 rows × 5 columns</p>\n",
       "</div>"
      ],
      "text/plain": [
       "                       timestamp      id       group  action    duration\n",
       "0     2016-09-24 17:14:52.012145  261869  experiment    view  130.545004\n",
       "1     2016-09-24 18:45:09.645857  226546  experiment    view  159.862440\n",
       "2     2016-09-24 19:16:21.002533  286353  experiment    view   79.349315\n",
       "3     2016-09-24 19:43:06.927785  842279  experiment    view   55.536126\n",
       "4     2016-09-24 21:08:22.790333  781883  experiment    view  204.322437\n",
       "...                          ...     ...         ...     ...         ...\n",
       "4069  2017-01-18 09:39:08.046251  931490     control    view   58.846204\n",
       "4070  2017-01-18 09:44:15.239671  410222  experiment  enroll  101.231821\n",
       "4071  2017-01-18 09:56:26.948171  364458     control    view  293.490566\n",
       "4072  2017-01-18 10:10:18.293253  443603  experiment    view  149.026959\n",
       "4073  2017-01-18 10:38:20.939958  540111  experiment    view   62.039341\n",
       "\n",
       "[4074 rows x 5 columns]"
      ]
     },
     "execution_count": 47,
     "metadata": {},
     "output_type": "execute_result"
    },
    {
     "data": {
      "application/javascript": [
       "\n",
       "            setTimeout(function() {\n",
       "                var nbb_cell_id = 47;\n",
       "                var nbb_unformatted_code = \"df2\";\n",
       "                var nbb_formatted_code = \"df2\";\n",
       "                var nbb_cells = Jupyter.notebook.get_cells();\n",
       "                for (var i = 0; i < nbb_cells.length; ++i) {\n",
       "                    if (nbb_cells[i].input_prompt_number == nbb_cell_id) {\n",
       "                        if (nbb_cells[i].get_text() == nbb_unformatted_code) {\n",
       "                             nbb_cells[i].set_text(nbb_formatted_code);\n",
       "                        }\n",
       "                        break;\n",
       "                    }\n",
       "                }\n",
       "            }, 500);\n",
       "            "
      ],
      "text/plain": [
       "<IPython.core.display.Javascript object>"
      ]
     },
     "metadata": {},
     "output_type": "display_data"
    }
   ],
   "source": [
    "df2"
   ]
  },
  {
   "cell_type": "code",
   "execution_count": 48,
   "id": "ca00cc83",
   "metadata": {},
   "outputs": [
    {
     "data": {
      "text/html": [
       "<div>\n",
       "<style scoped>\n",
       "    .dataframe tbody tr th:only-of-type {\n",
       "        vertical-align: middle;\n",
       "    }\n",
       "\n",
       "    .dataframe tbody tr th {\n",
       "        vertical-align: top;\n",
       "    }\n",
       "\n",
       "    .dataframe thead th {\n",
       "        text-align: right;\n",
       "    }\n",
       "</style>\n",
       "<table border=\"1\" class=\"dataframe\">\n",
       "  <thead>\n",
       "    <tr style=\"text-align: right;\">\n",
       "      <th></th>\n",
       "      <th>timestamp</th>\n",
       "      <th>id</th>\n",
       "      <th>group</th>\n",
       "      <th>action</th>\n",
       "      <th>duration</th>\n",
       "    </tr>\n",
       "  </thead>\n",
       "  <tbody>\n",
       "    <tr>\n",
       "      <th>0</th>\n",
       "      <td>2016-09-24 17:14:52.012145</td>\n",
       "      <td>261869</td>\n",
       "      <td>experiment</td>\n",
       "      <td>view</td>\n",
       "      <td>130.545004</td>\n",
       "    </tr>\n",
       "    <tr>\n",
       "      <th>1</th>\n",
       "      <td>2016-09-24 18:45:09.645857</td>\n",
       "      <td>226546</td>\n",
       "      <td>experiment</td>\n",
       "      <td>view</td>\n",
       "      <td>159.862440</td>\n",
       "    </tr>\n",
       "    <tr>\n",
       "      <th>2</th>\n",
       "      <td>2016-09-24 19:16:21.002533</td>\n",
       "      <td>286353</td>\n",
       "      <td>experiment</td>\n",
       "      <td>view</td>\n",
       "      <td>79.349315</td>\n",
       "    </tr>\n",
       "    <tr>\n",
       "      <th>3</th>\n",
       "      <td>2016-09-24 19:43:06.927785</td>\n",
       "      <td>842279</td>\n",
       "      <td>experiment</td>\n",
       "      <td>view</td>\n",
       "      <td>55.536126</td>\n",
       "    </tr>\n",
       "    <tr>\n",
       "      <th>4</th>\n",
       "      <td>2016-09-24 21:08:22.790333</td>\n",
       "      <td>781883</td>\n",
       "      <td>experiment</td>\n",
       "      <td>view</td>\n",
       "      <td>204.322437</td>\n",
       "    </tr>\n",
       "  </tbody>\n",
       "</table>\n",
       "</div>"
      ],
      "text/plain": [
       "                    timestamp      id       group action    duration\n",
       "0  2016-09-24 17:14:52.012145  261869  experiment   view  130.545004\n",
       "1  2016-09-24 18:45:09.645857  226546  experiment   view  159.862440\n",
       "2  2016-09-24 19:16:21.002533  286353  experiment   view   79.349315\n",
       "3  2016-09-24 19:43:06.927785  842279  experiment   view   55.536126\n",
       "4  2016-09-24 21:08:22.790333  781883  experiment   view  204.322437"
      ]
     },
     "execution_count": 48,
     "metadata": {},
     "output_type": "execute_result"
    },
    {
     "data": {
      "application/javascript": [
       "\n",
       "            setTimeout(function() {\n",
       "                var nbb_cell_id = 48;\n",
       "                var nbb_unformatted_code = \"views = df2.query('action == \\\"view\\\"')\\nviews.head()\";\n",
       "                var nbb_formatted_code = \"views = df2.query('action == \\\"view\\\"')\\nviews.head()\";\n",
       "                var nbb_cells = Jupyter.notebook.get_cells();\n",
       "                for (var i = 0; i < nbb_cells.length; ++i) {\n",
       "                    if (nbb_cells[i].input_prompt_number == nbb_cell_id) {\n",
       "                        if (nbb_cells[i].get_text() == nbb_unformatted_code) {\n",
       "                             nbb_cells[i].set_text(nbb_formatted_code);\n",
       "                        }\n",
       "                        break;\n",
       "                    }\n",
       "                }\n",
       "            }, 500);\n",
       "            "
      ],
      "text/plain": [
       "<IPython.core.display.Javascript object>"
      ]
     },
     "metadata": {},
     "output_type": "display_data"
    }
   ],
   "source": [
    "views = df2.query('action == \"view\"')\n",
    "views.head()"
   ]
  },
  {
   "cell_type": "code",
   "execution_count": 49,
   "id": "450b6b8b",
   "metadata": {},
   "outputs": [
    {
     "data": {
      "application/javascript": [
       "\n",
       "            setTimeout(function() {\n",
       "                var nbb_cell_id = 49;\n",
       "                var nbb_unformatted_code = \"rd = views.groupby([\\\"id\\\", \\\"group\\\"])[\\\"duration\\\"].mean()\\nrd = rd.reset_index()\";\n",
       "                var nbb_formatted_code = \"rd = views.groupby([\\\"id\\\", \\\"group\\\"])[\\\"duration\\\"].mean()\\nrd = rd.reset_index()\";\n",
       "                var nbb_cells = Jupyter.notebook.get_cells();\n",
       "                for (var i = 0; i < nbb_cells.length; ++i) {\n",
       "                    if (nbb_cells[i].input_prompt_number == nbb_cell_id) {\n",
       "                        if (nbb_cells[i].get_text() == nbb_unformatted_code) {\n",
       "                             nbb_cells[i].set_text(nbb_formatted_code);\n",
       "                        }\n",
       "                        break;\n",
       "                    }\n",
       "                }\n",
       "            }, 500);\n",
       "            "
      ],
      "text/plain": [
       "<IPython.core.display.Javascript object>"
      ]
     },
     "metadata": {},
     "output_type": "display_data"
    }
   ],
   "source": [
    "rd = views.groupby([\"id\", \"group\"])[\"duration\"].mean()\n",
    "rd = rd.reset_index()"
   ]
  },
  {
   "cell_type": "code",
   "execution_count": 50,
   "id": "36665c7e",
   "metadata": {},
   "outputs": [
    {
     "data": {
      "text/html": [
       "<div>\n",
       "<style scoped>\n",
       "    .dataframe tbody tr th:only-of-type {\n",
       "        vertical-align: middle;\n",
       "    }\n",
       "\n",
       "    .dataframe tbody tr th {\n",
       "        vertical-align: top;\n",
       "    }\n",
       "\n",
       "    .dataframe thead th {\n",
       "        text-align: right;\n",
       "    }\n",
       "</style>\n",
       "<table border=\"1\" class=\"dataframe\">\n",
       "  <thead>\n",
       "    <tr style=\"text-align: right;\">\n",
       "      <th></th>\n",
       "      <th>id</th>\n",
       "      <th>group</th>\n",
       "      <th>duration</th>\n",
       "    </tr>\n",
       "  </thead>\n",
       "  <tbody>\n",
       "    <tr>\n",
       "      <th>0</th>\n",
       "      <td>183260</td>\n",
       "      <td>control</td>\n",
       "      <td>107.331484</td>\n",
       "    </tr>\n",
       "    <tr>\n",
       "      <th>1</th>\n",
       "      <td>183615</td>\n",
       "      <td>experiment</td>\n",
       "      <td>24.627594</td>\n",
       "    </tr>\n",
       "    <tr>\n",
       "      <th>2</th>\n",
       "      <td>184277</td>\n",
       "      <td>experiment</td>\n",
       "      <td>193.212489</td>\n",
       "    </tr>\n",
       "    <tr>\n",
       "      <th>3</th>\n",
       "      <td>184360</td>\n",
       "      <td>experiment</td>\n",
       "      <td>226.586283</td>\n",
       "    </tr>\n",
       "    <tr>\n",
       "      <th>4</th>\n",
       "      <td>184589</td>\n",
       "      <td>experiment</td>\n",
       "      <td>12.052097</td>\n",
       "    </tr>\n",
       "  </tbody>\n",
       "</table>\n",
       "</div>"
      ],
      "text/plain": [
       "       id       group    duration\n",
       "0  183260     control  107.331484\n",
       "1  183615  experiment   24.627594\n",
       "2  184277  experiment  193.212489\n",
       "3  184360  experiment  226.586283\n",
       "4  184589  experiment   12.052097"
      ]
     },
     "execution_count": 50,
     "metadata": {},
     "output_type": "execute_result"
    },
    {
     "data": {
      "application/javascript": [
       "\n",
       "            setTimeout(function() {\n",
       "                var nbb_cell_id = 50;\n",
       "                var nbb_unformatted_code = \"rd.head()\";\n",
       "                var nbb_formatted_code = \"rd.head()\";\n",
       "                var nbb_cells = Jupyter.notebook.get_cells();\n",
       "                for (var i = 0; i < nbb_cells.length; ++i) {\n",
       "                    if (nbb_cells[i].input_prompt_number == nbb_cell_id) {\n",
       "                        if (nbb_cells[i].get_text() == nbb_unformatted_code) {\n",
       "                             nbb_cells[i].set_text(nbb_formatted_code);\n",
       "                        }\n",
       "                        break;\n",
       "                    }\n",
       "                }\n",
       "            }, 500);\n",
       "            "
      ],
      "text/plain": [
       "<IPython.core.display.Javascript object>"
      ]
     },
     "metadata": {},
     "output_type": "display_data"
    }
   ],
   "source": [
    "rd.head()"
   ]
  },
  {
   "cell_type": "code",
   "execution_count": 51,
   "id": "60172df3",
   "metadata": {},
   "outputs": [
    {
     "data": {
      "text/plain": [
       "115.40710650582038"
      ]
     },
     "execution_count": 51,
     "metadata": {},
     "output_type": "execute_result"
    },
    {
     "data": {
      "application/javascript": [
       "\n",
       "            setTimeout(function() {\n",
       "                var nbb_cell_id = 51;\n",
       "                var nbb_unformatted_code = \"rd_control = df2.query('group == \\\"control\\\"')[\\\"duration\\\"].mean()\\nrd_control\";\n",
       "                var nbb_formatted_code = \"rd_control = df2.query('group == \\\"control\\\"')[\\\"duration\\\"].mean()\\nrd_control\";\n",
       "                var nbb_cells = Jupyter.notebook.get_cells();\n",
       "                for (var i = 0; i < nbb_cells.length; ++i) {\n",
       "                    if (nbb_cells[i].input_prompt_number == nbb_cell_id) {\n",
       "                        if (nbb_cells[i].get_text() == nbb_unformatted_code) {\n",
       "                             nbb_cells[i].set_text(nbb_formatted_code);\n",
       "                        }\n",
       "                        break;\n",
       "                    }\n",
       "                }\n",
       "            }, 500);\n",
       "            "
      ],
      "text/plain": [
       "<IPython.core.display.Javascript object>"
      ]
     },
     "metadata": {},
     "output_type": "display_data"
    }
   ],
   "source": [
    "rd_control = df2.query('group == \"control\"')[\"duration\"].mean()\n",
    "rd_control"
   ]
  },
  {
   "cell_type": "code",
   "execution_count": 52,
   "id": "9b38c35b",
   "metadata": {},
   "outputs": [
    {
     "data": {
      "text/plain": [
       "130.93220512539477"
      ]
     },
     "execution_count": 52,
     "metadata": {},
     "output_type": "execute_result"
    },
    {
     "data": {
      "application/javascript": [
       "\n",
       "            setTimeout(function() {\n",
       "                var nbb_cell_id = 52;\n",
       "                var nbb_unformatted_code = \"rd_experiment = df2.query('group == \\\"experiment\\\"')[\\\"duration\\\"].mean()\\nrd_experiment\";\n",
       "                var nbb_formatted_code = \"rd_experiment = df2.query('group == \\\"experiment\\\"')[\\\"duration\\\"].mean()\\nrd_experiment\";\n",
       "                var nbb_cells = Jupyter.notebook.get_cells();\n",
       "                for (var i = 0; i < nbb_cells.length; ++i) {\n",
       "                    if (nbb_cells[i].input_prompt_number == nbb_cell_id) {\n",
       "                        if (nbb_cells[i].get_text() == nbb_unformatted_code) {\n",
       "                             nbb_cells[i].set_text(nbb_formatted_code);\n",
       "                        }\n",
       "                        break;\n",
       "                    }\n",
       "                }\n",
       "            }, 500);\n",
       "            "
      ],
      "text/plain": [
       "<IPython.core.display.Javascript object>"
      ]
     },
     "metadata": {},
     "output_type": "display_data"
    }
   ],
   "source": [
    "rd_experiment = df2.query('group == \"experiment\"')[\"duration\"].mean()\n",
    "rd_experiment"
   ]
  },
  {
   "cell_type": "code",
   "execution_count": 53,
   "id": "ca061d59",
   "metadata": {},
   "outputs": [
    {
     "data": {
      "application/javascript": [
       "\n",
       "            setTimeout(function() {\n",
       "                var nbb_cell_id = 53;\n",
       "                var nbb_unformatted_code = \"rd_diff = rd_experiment - rd_control\";\n",
       "                var nbb_formatted_code = \"rd_diff = rd_experiment - rd_control\";\n",
       "                var nbb_cells = Jupyter.notebook.get_cells();\n",
       "                for (var i = 0; i < nbb_cells.length; ++i) {\n",
       "                    if (nbb_cells[i].input_prompt_number == nbb_cell_id) {\n",
       "                        if (nbb_cells[i].get_text() == nbb_unformatted_code) {\n",
       "                             nbb_cells[i].set_text(nbb_formatted_code);\n",
       "                        }\n",
       "                        break;\n",
       "                    }\n",
       "                }\n",
       "            }, 500);\n",
       "            "
      ],
      "text/plain": [
       "<IPython.core.display.Javascript object>"
      ]
     },
     "metadata": {},
     "output_type": "display_data"
    }
   ],
   "source": [
    "rd_diff = rd_experiment - rd_control"
   ]
  },
  {
   "cell_type": "code",
   "execution_count": 54,
   "id": "f55cfa1c",
   "metadata": {},
   "outputs": [
    {
     "data": {
      "application/javascript": [
       "\n",
       "            setTimeout(function() {\n",
       "                var nbb_cell_id = 54;\n",
       "                var nbb_unformatted_code = \"np.random.seed(42)\\ndiffs = []\\nfor _ in range(1000):\\n    bi_samp = df2.sample(df2.shape[0], replace=True)\\n    rd_control = bi_samp.query('group == \\\"control\\\"')[\\\"duration\\\"].mean()\\n    rd_experiment = bi_samp.query('group == \\\"experiment\\\"')[\\\"duration\\\"].mean()\\n    diffs.append(rd_control - rd_experiment)\";\n",
       "                var nbb_formatted_code = \"np.random.seed(42)\\ndiffs = []\\nfor _ in range(1000):\\n    bi_samp = df2.sample(df2.shape[0], replace=True)\\n    rd_control = bi_samp.query('group == \\\"control\\\"')[\\\"duration\\\"].mean()\\n    rd_experiment = bi_samp.query('group == \\\"experiment\\\"')[\\\"duration\\\"].mean()\\n    diffs.append(rd_control - rd_experiment)\";\n",
       "                var nbb_cells = Jupyter.notebook.get_cells();\n",
       "                for (var i = 0; i < nbb_cells.length; ++i) {\n",
       "                    if (nbb_cells[i].input_prompt_number == nbb_cell_id) {\n",
       "                        if (nbb_cells[i].get_text() == nbb_unformatted_code) {\n",
       "                             nbb_cells[i].set_text(nbb_formatted_code);\n",
       "                        }\n",
       "                        break;\n",
       "                    }\n",
       "                }\n",
       "            }, 500);\n",
       "            "
      ],
      "text/plain": [
       "<IPython.core.display.Javascript object>"
      ]
     },
     "metadata": {},
     "output_type": "display_data"
    }
   ],
   "source": [
    "np.random.seed(42)\n",
    "diffs = []\n",
    "for _ in range(1000):\n",
    "    bi_samp = df2.sample(df2.shape[0], replace=True)\n",
    "    rd_control = bi_samp.query('group == \"control\"')[\"duration\"].mean()\n",
    "    rd_experiment = bi_samp.query('group == \"experiment\"')[\"duration\"].mean()\n",
    "    diffs.append(rd_control - rd_experiment)"
   ]
  },
  {
   "cell_type": "code",
   "execution_count": 55,
   "id": "6e65e267",
   "metadata": {},
   "outputs": [
    {
     "data": {
      "application/javascript": [
       "\n",
       "            setTimeout(function() {\n",
       "                var nbb_cell_id = 55;\n",
       "                var nbb_unformatted_code = \"diffs = np.array(diffs)\";\n",
       "                var nbb_formatted_code = \"diffs = np.array(diffs)\";\n",
       "                var nbb_cells = Jupyter.notebook.get_cells();\n",
       "                for (var i = 0; i < nbb_cells.length; ++i) {\n",
       "                    if (nbb_cells[i].input_prompt_number == nbb_cell_id) {\n",
       "                        if (nbb_cells[i].get_text() == nbb_unformatted_code) {\n",
       "                             nbb_cells[i].set_text(nbb_formatted_code);\n",
       "                        }\n",
       "                        break;\n",
       "                    }\n",
       "                }\n",
       "            }, 500);\n",
       "            "
      ],
      "text/plain": [
       "<IPython.core.display.Javascript object>"
      ]
     },
     "metadata": {},
     "output_type": "display_data"
    }
   ],
   "source": [
    "diffs = np.array(diffs)"
   ]
  },
  {
   "cell_type": "code",
   "execution_count": 56,
   "id": "6345db20",
   "metadata": {},
   "outputs": [
    {
     "data": {
      "text/plain": [
       "(array([  1.,  12.,  29., 120., 227., 310., 194.,  84.,  18.,   5.]),\n",
       " array([-24.49990495, -22.8129333 , -21.12596164, -19.43898998,\n",
       "        -17.75201833, -16.06504667, -14.37807501, -12.69110335,\n",
       "        -11.0041317 ,  -9.31716004,  -7.63018838]),\n",
       " <BarContainer object of 10 artists>)"
      ]
     },
     "execution_count": 56,
     "metadata": {},
     "output_type": "execute_result"
    },
    {
     "data": {
      "image/png": "[encoded data removed]",
      "text/plain": [
       "<Figure size 640x480 with 1 Axes>"
      ]
     },
     "metadata": {},
     "output_type": "display_data"
    },
    {
     "data": {
      "application/javascript": [
       "\n",
       "            setTimeout(function() {\n",
       "                var nbb_cell_id = 56;\n",
       "                var nbb_unformatted_code = \"plt.hist(diffs)\";\n",
       "                var nbb_formatted_code = \"plt.hist(diffs)\";\n",
       "                var nbb_cells = Jupyter.notebook.get_cells();\n",
       "                for (var i = 0; i < nbb_cells.length; ++i) {\n",
       "                    if (nbb_cells[i].input_prompt_number == nbb_cell_id) {\n",
       "                        if (nbb_cells[i].get_text() == nbb_unformatted_code) {\n",
       "                             nbb_cells[i].set_text(nbb_formatted_code);\n",
       "                        }\n",
       "                        break;\n",
       "                    }\n",
       "                }\n",
       "            }, 500);\n",
       "            "
      ],
      "text/plain": [
       "<IPython.core.display.Javascript object>"
      ]
     },
     "metadata": {},
     "output_type": "display_data"
    }
   ],
   "source": [
    "plt.hist(diffs)"
   ]
  },
  {
   "cell_type": "code",
   "execution_count": 57,
   "id": "f9d4b778",
   "metadata": {},
   "outputs": [
    {
     "data": {
      "application/javascript": [
       "\n",
       "            setTimeout(function() {\n",
       "                var nbb_cell_id = 57;\n",
       "                var nbb_unformatted_code = \"null_vals = np.random.normal(0, diffs.std(), diffs.size)\";\n",
       "                var nbb_formatted_code = \"null_vals = np.random.normal(0, diffs.std(), diffs.size)\";\n",
       "                var nbb_cells = Jupyter.notebook.get_cells();\n",
       "                for (var i = 0; i < nbb_cells.length; ++i) {\n",
       "                    if (nbb_cells[i].input_prompt_number == nbb_cell_id) {\n",
       "                        if (nbb_cells[i].get_text() == nbb_unformatted_code) {\n",
       "                             nbb_cells[i].set_text(nbb_formatted_code);\n",
       "                        }\n",
       "                        break;\n",
       "                    }\n",
       "                }\n",
       "            }, 500);\n",
       "            "
      ],
      "text/plain": [
       "<IPython.core.display.Javascript object>"
      ]
     },
     "metadata": {},
     "output_type": "display_data"
    }
   ],
   "source": [
    "null_vals = np.random.normal(0, diffs.std(), diffs.size)"
   ]
  },
  {
   "cell_type": "code",
   "execution_count": 58,
   "id": "a84fc9e2",
   "metadata": {},
   "outputs": [
    {
     "data": {
      "text/plain": [
       "(array([  1.,   6.,  45., 147., 260., 275., 178.,  69.,  14.,   5.]),\n",
       " array([-8.81683931, -7.10630227, -5.39576524, -3.6852282 , -1.97469117,\n",
       "        -0.26415413,  1.4463829 ,  3.15691994,  4.86745697,  6.577994  ,\n",
       "         8.28853104]),\n",
       " <BarContainer object of 10 artists>)"
      ]
     },
     "execution_count": 58,
     "metadata": {},
     "output_type": "execute_result"
    },
    {
     "data": {
      "image/png": "[encoded data removed]",
      "text/plain": [
       "<Figure size 640x480 with 1 Axes>"
      ]
     },
     "metadata": {},
     "output_type": "display_data"
    },
    {
     "data": {
      "application/javascript": [
       "\n",
       "            setTimeout(function() {\n",
       "                var nbb_cell_id = 58;\n",
       "                var nbb_unformatted_code = \"plt.hist(null_vals)\";\n",
       "                var nbb_formatted_code = \"plt.hist(null_vals)\";\n",
       "                var nbb_cells = Jupyter.notebook.get_cells();\n",
       "                for (var i = 0; i < nbb_cells.length; ++i) {\n",
       "                    if (nbb_cells[i].input_prompt_number == nbb_cell_id) {\n",
       "                        if (nbb_cells[i].get_text() == nbb_unformatted_code) {\n",
       "                             nbb_cells[i].set_text(nbb_formatted_code);\n",
       "                        }\n",
       "                        break;\n",
       "                    }\n",
       "                }\n",
       "            }, 500);\n",
       "            "
      ],
      "text/plain": [
       "<IPython.core.display.Javascript object>"
      ]
     },
     "metadata": {},
     "output_type": "display_data"
    }
   ],
   "source": [
    "plt.hist(null_vals)"
   ]
  },
  {
   "cell_type": "code",
   "execution_count": 59,
   "id": "c4768c5b",
   "metadata": {},
   "outputs": [
    {
     "data": {
      "text/plain": [
       "<matplotlib.lines.Line2D at 0x7ff0dae8ed90>"
      ]
     },
     "execution_count": 59,
     "metadata": {},
     "output_type": "execute_result"
    },
    {
     "data": {
      "image/png": "[encoded data removed]",
      "text/plain": [
       "<Figure size 640x480 with 1 Axes>"
      ]
     },
     "metadata": {},
     "output_type": "display_data"
    },
    {
     "data": {
      "application/javascript": [
       "\n",
       "            setTimeout(function() {\n",
       "                var nbb_cell_id = 59;\n",
       "                var nbb_unformatted_code = \"plt.hist(null_vals)\\nplt.axvline(x=rd_diff, color=\\\"red\\\")\";\n",
       "                var nbb_formatted_code = \"plt.hist(null_vals)\\nplt.axvline(x=rd_diff, color=\\\"red\\\")\";\n",
       "                var nbb_cells = Jupyter.notebook.get_cells();\n",
       "                for (var i = 0; i < nbb_cells.length; ++i) {\n",
       "                    if (nbb_cells[i].input_prompt_number == nbb_cell_id) {\n",
       "                        if (nbb_cells[i].get_text() == nbb_unformatted_code) {\n",
       "                             nbb_cells[i].set_text(nbb_formatted_code);\n",
       "                        }\n",
       "                        break;\n",
       "                    }\n",
       "                }\n",
       "            }, 500);\n",
       "            "
      ],
      "text/plain": [
       "<IPython.core.display.Javascript object>"
      ]
     },
     "metadata": {},
     "output_type": "display_data"
    }
   ],
   "source": [
    "plt.hist(null_vals)\n",
    "plt.axvline(x=rd_diff, color=\"red\")"
   ]
  },
  {
   "cell_type": "code",
   "execution_count": 60,
   "id": "5992e31e",
   "metadata": {},
   "outputs": [
    {
     "data": {
      "text/plain": [
       "0.0"
      ]
     },
     "execution_count": 60,
     "metadata": {},
     "output_type": "execute_result"
    },
    {
     "data": {
      "application/javascript": [
       "\n",
       "            setTimeout(function() {\n",
       "                var nbb_cell_id = 60;\n",
       "                var nbb_unformatted_code = \"(null_vals > rd_diff).mean()\";\n",
       "                var nbb_formatted_code = \"(null_vals > rd_diff).mean()\";\n",
       "                var nbb_cells = Jupyter.notebook.get_cells();\n",
       "                for (var i = 0; i < nbb_cells.length; ++i) {\n",
       "                    if (nbb_cells[i].input_prompt_number == nbb_cell_id) {\n",
       "                        if (nbb_cells[i].get_text() == nbb_unformatted_code) {\n",
       "                             nbb_cells[i].set_text(nbb_formatted_code);\n",
       "                        }\n",
       "                        break;\n",
       "                    }\n",
       "                }\n",
       "            }, 500);\n",
       "            "
      ],
      "text/plain": [
       "<IPython.core.display.Javascript object>"
      ]
     },
     "metadata": {},
     "output_type": "display_data"
    }
   ],
   "source": [
    "(null_vals > rd_diff).mean()"
   ]
  },
  {
   "cell_type": "markdown",
   "id": "c989f273",
   "metadata": {},
   "source": [
    "With a type I error rate of 0.05 and a p-value of 0.0, we reject the null hypothesis in favour of $H_1$"
   ]
  },
  {
   "cell_type": "markdown",
   "id": "ce43edb0",
   "metadata": {},
   "source": [
    "### Conclusion: \n",
    "\n",
    "This indicates that there is strong evidence to conclude that average reading time increased after seeing the experimental description in the course overview page at a significance level of 0.05."
   ]
  },
  {
   "cell_type": "markdown",
   "id": "2a069652",
   "metadata": {},
   "source": [
    "### Metric # 4 - Average Classroom Time\n",
    "\n",
    "Average classroom time refers to the mean amount of time spent by users actively participating in a virtual classroom environment (here measured in days). It provides insight into user engagement and participation levels within the educational platform.\n",
    "\n",
    "The formula to calculate average classroom time is:\n",
    "\n",
    "Average Classroom Time = Total Classroom Time / Number of Users = mean(days)\n",
    "\n",
    "\n",
    "Where:__Total Classroom Time__ is the sum of time spent by all users in the virtual classroom.\n",
    "__Number of Users__ is the total number of users who participated in the virtual classroom.\n",
    "\n"
   ]
  },
  {
   "cell_type": "code",
   "execution_count": 61,
   "id": "388457d1",
   "metadata": {},
   "outputs": [
    {
     "data": {
      "text/html": [
       "<div>\n",
       "<style scoped>\n",
       "    .dataframe tbody tr th:only-of-type {\n",
       "        vertical-align: middle;\n",
       "    }\n",
       "\n",
       "    .dataframe tbody tr th {\n",
       "        vertical-align: top;\n",
       "    }\n",
       "\n",
       "    .dataframe thead th {\n",
       "        text-align: right;\n",
       "    }\n",
       "</style>\n",
       "<table border=\"1\" class=\"dataframe\">\n",
       "  <thead>\n",
       "    <tr style=\"text-align: right;\">\n",
       "      <th></th>\n",
       "      <th>timestamp</th>\n",
       "      <th>id</th>\n",
       "      <th>group</th>\n",
       "      <th>total_days</th>\n",
       "      <th>completed</th>\n",
       "    </tr>\n",
       "  </thead>\n",
       "  <tbody>\n",
       "    <tr>\n",
       "      <th>0</th>\n",
       "      <td>2015-08-10 17:06:01.032740</td>\n",
       "      <td>610019</td>\n",
       "      <td>experiment</td>\n",
       "      <td>97</td>\n",
       "      <td>True</td>\n",
       "    </tr>\n",
       "    <tr>\n",
       "      <th>1</th>\n",
       "      <td>2015-08-10 17:15:28.950975</td>\n",
       "      <td>690224</td>\n",
       "      <td>control</td>\n",
       "      <td>75</td>\n",
       "      <td>False</td>\n",
       "    </tr>\n",
       "    <tr>\n",
       "      <th>2</th>\n",
       "      <td>2015-08-10 17:34:40.920384</td>\n",
       "      <td>564994</td>\n",
       "      <td>experiment</td>\n",
       "      <td>128</td>\n",
       "      <td>True</td>\n",
       "    </tr>\n",
       "    <tr>\n",
       "      <th>3</th>\n",
       "      <td>2015-08-10 17:50:39.847374</td>\n",
       "      <td>849588</td>\n",
       "      <td>experiment</td>\n",
       "      <td>66</td>\n",
       "      <td>False</td>\n",
       "    </tr>\n",
       "    <tr>\n",
       "      <th>4</th>\n",
       "      <td>2015-08-10 19:10:40.650599</td>\n",
       "      <td>849826</td>\n",
       "      <td>experiment</td>\n",
       "      <td>34</td>\n",
       "      <td>False</td>\n",
       "    </tr>\n",
       "  </tbody>\n",
       "</table>\n",
       "</div>"
      ],
      "text/plain": [
       "                    timestamp      id       group  total_days  completed\n",
       "0  2015-08-10 17:06:01.032740  610019  experiment          97       True\n",
       "1  2015-08-10 17:15:28.950975  690224     control          75      False\n",
       "2  2015-08-10 17:34:40.920384  564994  experiment         128       True\n",
       "3  2015-08-10 17:50:39.847374  849588  experiment          66      False\n",
       "4  2015-08-10 19:10:40.650599  849826  experiment          34      False"
      ]
     },
     "execution_count": 61,
     "metadata": {},
     "output_type": "execute_result"
    },
    {
     "data": {
      "application/javascript": [
       "\n",
       "            setTimeout(function() {\n",
       "                var nbb_cell_id = 61;\n",
       "                var nbb_unformatted_code = \"df3 = pd.read_csv(\\\"classroom_actions.csv\\\")\\ndf3.head()\";\n",
       "                var nbb_formatted_code = \"df3 = pd.read_csv(\\\"classroom_actions.csv\\\")\\ndf3.head()\";\n",
       "                var nbb_cells = Jupyter.notebook.get_cells();\n",
       "                for (var i = 0; i < nbb_cells.length; ++i) {\n",
       "                    if (nbb_cells[i].input_prompt_number == nbb_cell_id) {\n",
       "                        if (nbb_cells[i].get_text() == nbb_unformatted_code) {\n",
       "                             nbb_cells[i].set_text(nbb_formatted_code);\n",
       "                        }\n",
       "                        break;\n",
       "                    }\n",
       "                }\n",
       "            }, 500);\n",
       "            "
      ],
      "text/plain": [
       "<IPython.core.display.Javascript object>"
      ]
     },
     "metadata": {},
     "output_type": "display_data"
    }
   ],
   "source": [
    "df3 = pd.read_csv(\"classroom_actions.csv\")\n",
    "df3.head()"
   ]
  },
  {
   "cell_type": "code",
   "execution_count": 62,
   "id": "5613788c",
   "metadata": {},
   "outputs": [
    {
     "data": {
      "text/plain": [
       "(73.36899038461539, 74.6715935334873)"
      ]
     },
     "execution_count": 62,
     "metadata": {},
     "output_type": "execute_result"
    },
    {
     "data": {
      "application/javascript": [
       "\n",
       "            setTimeout(function() {\n",
       "                var nbb_cell_id = 62;\n",
       "                var nbb_unformatted_code = \"act_control = df3.query('group == \\\"control\\\"')[\\\"total_days\\\"].mean()\\nact_experiment = df3.query('group == \\\"experiment\\\"')[\\\"total_days\\\"].mean()\\nact_control, act_experiment\";\n",
       "                var nbb_formatted_code = \"act_control = df3.query('group == \\\"control\\\"')[\\\"total_days\\\"].mean()\\nact_experiment = df3.query('group == \\\"experiment\\\"')[\\\"total_days\\\"].mean()\\nact_control, act_experiment\";\n",
       "                var nbb_cells = Jupyter.notebook.get_cells();\n",
       "                for (var i = 0; i < nbb_cells.length; ++i) {\n",
       "                    if (nbb_cells[i].input_prompt_number == nbb_cell_id) {\n",
       "                        if (nbb_cells[i].get_text() == nbb_unformatted_code) {\n",
       "                             nbb_cells[i].set_text(nbb_formatted_code);\n",
       "                        }\n",
       "                        break;\n",
       "                    }\n",
       "                }\n",
       "            }, 500);\n",
       "            "
      ],
      "text/plain": [
       "<IPython.core.display.Javascript object>"
      ]
     },
     "metadata": {},
     "output_type": "display_data"
    }
   ],
   "source": [
    "act_control = df3.query('group == \"control\"')[\"total_days\"].mean()\n",
    "act_experiment = df3.query('group == \"experiment\"')[\"total_days\"].mean()\n",
    "act_control, act_experiment"
   ]
  },
  {
   "cell_type": "code",
   "execution_count": 63,
   "id": "ef23e3b4",
   "metadata": {},
   "outputs": [
    {
     "data": {
      "text/plain": [
       "1.3026031488719099"
      ]
     },
     "execution_count": 63,
     "metadata": {},
     "output_type": "execute_result"
    },
    {
     "data": {
      "application/javascript": [
       "\n",
       "            setTimeout(function() {\n",
       "                var nbb_cell_id = 63;\n",
       "                var nbb_unformatted_code = \"act_diff = act_experiment - act_control\\nact_diff\";\n",
       "                var nbb_formatted_code = \"act_diff = act_experiment - act_control\\nact_diff\";\n",
       "                var nbb_cells = Jupyter.notebook.get_cells();\n",
       "                for (var i = 0; i < nbb_cells.length; ++i) {\n",
       "                    if (nbb_cells[i].input_prompt_number == nbb_cell_id) {\n",
       "                        if (nbb_cells[i].get_text() == nbb_unformatted_code) {\n",
       "                             nbb_cells[i].set_text(nbb_formatted_code);\n",
       "                        }\n",
       "                        break;\n",
       "                    }\n",
       "                }\n",
       "            }, 500);\n",
       "            "
      ],
      "text/plain": [
       "<IPython.core.display.Javascript object>"
      ]
     },
     "metadata": {},
     "output_type": "display_data"
    }
   ],
   "source": [
    "act_diff = act_experiment - act_control\n",
    "act_diff"
   ]
  },
  {
   "cell_type": "code",
   "execution_count": 64,
   "id": "d701d66b",
   "metadata": {},
   "outputs": [
    {
     "data": {
      "application/javascript": [
       "\n",
       "            setTimeout(function() {\n",
       "                var nbb_cell_id = 64;\n",
       "                var nbb_unformatted_code = \"diffs = []\\nfor _ in range(1000):\\n    bi_samp = df3.sample(df3.shape[0], replace=True)\\n    act_control = bi_samp.query('group == \\\"control\\\"')[\\\"total_days\\\"].mean()\\n    act_experiment = bi_samp.query('group == \\\"experiment\\\"')[\\\"total_days\\\"].mean()\\n    diffs.append(act_experiment - act_control)\";\n",
       "                var nbb_formatted_code = \"diffs = []\\nfor _ in range(1000):\\n    bi_samp = df3.sample(df3.shape[0], replace=True)\\n    act_control = bi_samp.query('group == \\\"control\\\"')[\\\"total_days\\\"].mean()\\n    act_experiment = bi_samp.query('group == \\\"experiment\\\"')[\\\"total_days\\\"].mean()\\n    diffs.append(act_experiment - act_control)\";\n",
       "                var nbb_cells = Jupyter.notebook.get_cells();\n",
       "                for (var i = 0; i < nbb_cells.length; ++i) {\n",
       "                    if (nbb_cells[i].input_prompt_number == nbb_cell_id) {\n",
       "                        if (nbb_cells[i].get_text() == nbb_unformatted_code) {\n",
       "                             nbb_cells[i].set_text(nbb_formatted_code);\n",
       "                        }\n",
       "                        break;\n",
       "                    }\n",
       "                }\n",
       "            }, 500);\n",
       "            "
      ],
      "text/plain": [
       "<IPython.core.display.Javascript object>"
      ]
     },
     "metadata": {},
     "output_type": "display_data"
    }
   ],
   "source": [
    "diffs = []\n",
    "for _ in range(1000):\n",
    "    bi_samp = df3.sample(df3.shape[0], replace=True)\n",
    "    act_control = bi_samp.query('group == \"control\"')[\"total_days\"].mean()\n",
    "    act_experiment = bi_samp.query('group == \"experiment\"')[\"total_days\"].mean()\n",
    "    diffs.append(act_experiment - act_control)"
   ]
  },
  {
   "cell_type": "code",
   "execution_count": 65,
   "id": "6cc966e0",
   "metadata": {},
   "outputs": [
    {
     "data": {
      "application/javascript": [
       "\n",
       "            setTimeout(function() {\n",
       "                var nbb_cell_id = 65;\n",
       "                var nbb_unformatted_code = \"diffs = np.array(diffs)\";\n",
       "                var nbb_formatted_code = \"diffs = np.array(diffs)\";\n",
       "                var nbb_cells = Jupyter.notebook.get_cells();\n",
       "                for (var i = 0; i < nbb_cells.length; ++i) {\n",
       "                    if (nbb_cells[i].input_prompt_number == nbb_cell_id) {\n",
       "                        if (nbb_cells[i].get_text() == nbb_unformatted_code) {\n",
       "                             nbb_cells[i].set_text(nbb_formatted_code);\n",
       "                        }\n",
       "                        break;\n",
       "                    }\n",
       "                }\n",
       "            }, 500);\n",
       "            "
      ],
      "text/plain": [
       "<IPython.core.display.Javascript object>"
      ]
     },
     "metadata": {},
     "output_type": "display_data"
    }
   ],
   "source": [
    "diffs = np.array(diffs)"
   ]
  },
  {
   "cell_type": "code",
   "execution_count": 66,
   "id": "d0f14a51",
   "metadata": {},
   "outputs": [
    {
     "data": {
      "text/plain": [
       "(array([  9.,  26.,  90., 157., 238., 222., 144.,  87.,  18.,   9.]),\n",
       " array([-0.79808654, -0.374014  ,  0.05005855,  0.47413109,  0.89820363,\n",
       "         1.32227617,  1.74634871,  2.17042126,  2.5944938 ,  3.01856634,\n",
       "         3.44263888]),\n",
       " <BarContainer object of 10 artists>)"
      ]
     },
     "execution_count": 66,
     "metadata": {},
     "output_type": "execute_result"
    },
    {
     "data": {
      "image/png": "[encoded data removed]",
      "text/plain": [
       "<Figure size 640x480 with 1 Axes>"
      ]
     },
     "metadata": {},
     "output_type": "display_data"
    },
    {
     "data": {
      "application/javascript": [
       "\n",
       "            setTimeout(function() {\n",
       "                var nbb_cell_id = 66;\n",
       "                var nbb_unformatted_code = \"plt.hist(diffs)\";\n",
       "                var nbb_formatted_code = \"plt.hist(diffs)\";\n",
       "                var nbb_cells = Jupyter.notebook.get_cells();\n",
       "                for (var i = 0; i < nbb_cells.length; ++i) {\n",
       "                    if (nbb_cells[i].input_prompt_number == nbb_cell_id) {\n",
       "                        if (nbb_cells[i].get_text() == nbb_unformatted_code) {\n",
       "                             nbb_cells[i].set_text(nbb_formatted_code);\n",
       "                        }\n",
       "                        break;\n",
       "                    }\n",
       "                }\n",
       "            }, 500);\n",
       "            "
      ],
      "text/plain": [
       "<IPython.core.display.Javascript object>"
      ]
     },
     "metadata": {},
     "output_type": "display_data"
    }
   ],
   "source": [
    "plt.hist(diffs)"
   ]
  },
  {
   "cell_type": "code",
   "execution_count": 67,
   "id": "4b5a120a",
   "metadata": {},
   "outputs": [
    {
     "data": {
      "application/javascript": [
       "\n",
       "            setTimeout(function() {\n",
       "                var nbb_cell_id = 67;\n",
       "                var nbb_unformatted_code = \"null_vals = np.random.normal(0, diffs.std(), diffs.size)\";\n",
       "                var nbb_formatted_code = \"null_vals = np.random.normal(0, diffs.std(), diffs.size)\";\n",
       "                var nbb_cells = Jupyter.notebook.get_cells();\n",
       "                for (var i = 0; i < nbb_cells.length; ++i) {\n",
       "                    if (nbb_cells[i].input_prompt_number == nbb_cell_id) {\n",
       "                        if (nbb_cells[i].get_text() == nbb_unformatted_code) {\n",
       "                             nbb_cells[i].set_text(nbb_formatted_code);\n",
       "                        }\n",
       "                        break;\n",
       "                    }\n",
       "                }\n",
       "            }, 500);\n",
       "            "
      ],
      "text/plain": [
       "<IPython.core.display.Javascript object>"
      ]
     },
     "metadata": {},
     "output_type": "display_data"
    }
   ],
   "source": [
    "null_vals = np.random.normal(0, diffs.std(), diffs.size)"
   ]
  },
  {
   "cell_type": "code",
   "execution_count": 68,
   "id": "edd3da3c",
   "metadata": {},
   "outputs": [
    {
     "data": {
      "text/plain": [
       "(array([  3.,   3.,  25.,  85., 191., 283., 237., 120.,  45.,   8.]),\n",
       " array([-2.8563371 , -2.35382981, -1.85132252, -1.34881523, -0.84630794,\n",
       "        -0.34380065,  0.15870664,  0.66121393,  1.16372122,  1.66622851,\n",
       "         2.1687358 ]),\n",
       " <BarContainer object of 10 artists>)"
      ]
     },
     "execution_count": 68,
     "metadata": {},
     "output_type": "execute_result"
    },
    {
     "data": {
      "image/png": "[encoded data removed]",
      "text/plain": [
       "<Figure size 640x480 with 1 Axes>"
      ]
     },
     "metadata": {},
     "output_type": "display_data"
    },
    {
     "data": {
      "application/javascript": [
       "\n",
       "            setTimeout(function() {\n",
       "                var nbb_cell_id = 68;\n",
       "                var nbb_unformatted_code = \"plt.hist(null_vals)\";\n",
       "                var nbb_formatted_code = \"plt.hist(null_vals)\";\n",
       "                var nbb_cells = Jupyter.notebook.get_cells();\n",
       "                for (var i = 0; i < nbb_cells.length; ++i) {\n",
       "                    if (nbb_cells[i].input_prompt_number == nbb_cell_id) {\n",
       "                        if (nbb_cells[i].get_text() == nbb_unformatted_code) {\n",
       "                             nbb_cells[i].set_text(nbb_formatted_code);\n",
       "                        }\n",
       "                        break;\n",
       "                    }\n",
       "                }\n",
       "            }, 500);\n",
       "            "
      ],
      "text/plain": [
       "<IPython.core.display.Javascript object>"
      ]
     },
     "metadata": {},
     "output_type": "display_data"
    }
   ],
   "source": [
    "plt.hist(null_vals)"
   ]
  },
  {
   "cell_type": "code",
   "execution_count": 69,
   "id": "9e870857",
   "metadata": {},
   "outputs": [
    {
     "data": {
      "text/plain": [
       "<matplotlib.lines.Line2D at 0x7ff0dafd0c70>"
      ]
     },
     "execution_count": 69,
     "metadata": {},
     "output_type": "execute_result"
    },
    {
     "data": {
      "image/png": "[encoded data removed]",
      "text/plain": [
       "<Figure size 640x480 with 1 Axes>"
      ]
     },
     "metadata": {},
     "output_type": "display_data"
    },
    {
     "data": {
      "application/javascript": [
       "\n",
       "            setTimeout(function() {\n",
       "                var nbb_cell_id = 69;\n",
       "                var nbb_unformatted_code = \"plt.hist(null_vals)\\nplt.axvline(x=act_diff, color=\\\"red\\\")\";\n",
       "                var nbb_formatted_code = \"plt.hist(null_vals)\\nplt.axvline(x=act_diff, color=\\\"red\\\")\";\n",
       "                var nbb_cells = Jupyter.notebook.get_cells();\n",
       "                for (var i = 0; i < nbb_cells.length; ++i) {\n",
       "                    if (nbb_cells[i].input_prompt_number == nbb_cell_id) {\n",
       "                        if (nbb_cells[i].get_text() == nbb_unformatted_code) {\n",
       "                             nbb_cells[i].set_text(nbb_formatted_code);\n",
       "                        }\n",
       "                        break;\n",
       "                    }\n",
       "                }\n",
       "            }, 500);\n",
       "            "
      ],
      "text/plain": [
       "<IPython.core.display.Javascript object>"
      ]
     },
     "metadata": {},
     "output_type": "display_data"
    }
   ],
   "source": [
    "plt.hist(null_vals)\n",
    "plt.axvline(x=act_diff, color=\"red\")"
   ]
  },
  {
   "cell_type": "code",
   "execution_count": 70,
   "id": "46d06583",
   "metadata": {},
   "outputs": [
    {
     "data": {
      "text/plain": [
       "0.032"
      ]
     },
     "execution_count": 70,
     "metadata": {},
     "output_type": "execute_result"
    },
    {
     "data": {
      "application/javascript": [
       "\n",
       "            setTimeout(function() {\n",
       "                var nbb_cell_id = 70;\n",
       "                var nbb_unformatted_code = \"(null_vals > act_diff).mean()\";\n",
       "                var nbb_formatted_code = \"(null_vals > act_diff).mean()\";\n",
       "                var nbb_cells = Jupyter.notebook.get_cells();\n",
       "                for (var i = 0; i < nbb_cells.length; ++i) {\n",
       "                    if (nbb_cells[i].input_prompt_number == nbb_cell_id) {\n",
       "                        if (nbb_cells[i].get_text() == nbb_unformatted_code) {\n",
       "                             nbb_cells[i].set_text(nbb_formatted_code);\n",
       "                        }\n",
       "                        break;\n",
       "                    }\n",
       "                }\n",
       "            }, 500);\n",
       "            "
      ],
      "text/plain": [
       "<IPython.core.display.Javascript object>"
      ]
     },
     "metadata": {},
     "output_type": "display_data"
    }
   ],
   "source": [
    "(null_vals > act_diff).mean()"
   ]
  },
  {
   "cell_type": "markdown",
   "id": "5d82d389",
   "metadata": {},
   "source": [
    "With a type I error rate of 0.05 and a p-value of 0.03, we reject the null hypothesis. "
   ]
  },
  {
   "cell_type": "markdown",
   "id": "3143f9ab",
   "metadata": {},
   "source": [
    "### Conclusion: \n",
    "This suggests that there is evidence to conclude that users spend more time in the classroom after seeing the experimental description in the course overview page at a significance level of 0.05."
   ]
  },
  {
   "cell_type": "markdown",
   "id": "0ac8c3e1",
   "metadata": {},
   "source": [
    "### Metric # 5 - Completion Rate\n",
    "completion rate refers to the proportion of users who successfully complete a particular task or activity out of the total number of users who attempted it. In the context of an online course, completion rate typically measures the percentage of users who finish all the required modules or assignments.\n",
    "\n",
    "The formula to calculate completion rate is:\n",
    "\n",
    "Completion Rate = Number of Users who Completed / Total Number of Users who Attempted = mean(users who completed)\n",
    "\n",
    "Where:\n",
    "\n",
    "__Number of Users who Completed__ is the total number of users who successfully completed the task or activity.\n",
    "__Total Number of Users who Attempted__ is the total number of users who tried to complete the task or activity.\n",
    "\n"
   ]
  },
  {
   "cell_type": "code",
   "execution_count": 71,
   "id": "df44252e",
   "metadata": {},
   "outputs": [
    {
     "data": {
      "text/html": [
       "<div>\n",
       "<style scoped>\n",
       "    .dataframe tbody tr th:only-of-type {\n",
       "        vertical-align: middle;\n",
       "    }\n",
       "\n",
       "    .dataframe tbody tr th {\n",
       "        vertical-align: top;\n",
       "    }\n",
       "\n",
       "    .dataframe thead th {\n",
       "        text-align: right;\n",
       "    }\n",
       "</style>\n",
       "<table border=\"1\" class=\"dataframe\">\n",
       "  <thead>\n",
       "    <tr style=\"text-align: right;\">\n",
       "      <th></th>\n",
       "      <th>timestamp</th>\n",
       "      <th>id</th>\n",
       "      <th>group</th>\n",
       "      <th>total_days</th>\n",
       "      <th>completed</th>\n",
       "    </tr>\n",
       "  </thead>\n",
       "  <tbody>\n",
       "    <tr>\n",
       "      <th>0</th>\n",
       "      <td>2015-08-10 17:06:01.032740</td>\n",
       "      <td>610019</td>\n",
       "      <td>experiment</td>\n",
       "      <td>97</td>\n",
       "      <td>True</td>\n",
       "    </tr>\n",
       "    <tr>\n",
       "      <th>1</th>\n",
       "      <td>2015-08-10 17:15:28.950975</td>\n",
       "      <td>690224</td>\n",
       "      <td>control</td>\n",
       "      <td>75</td>\n",
       "      <td>False</td>\n",
       "    </tr>\n",
       "    <tr>\n",
       "      <th>2</th>\n",
       "      <td>2015-08-10 17:34:40.920384</td>\n",
       "      <td>564994</td>\n",
       "      <td>experiment</td>\n",
       "      <td>128</td>\n",
       "      <td>True</td>\n",
       "    </tr>\n",
       "    <tr>\n",
       "      <th>3</th>\n",
       "      <td>2015-08-10 17:50:39.847374</td>\n",
       "      <td>849588</td>\n",
       "      <td>experiment</td>\n",
       "      <td>66</td>\n",
       "      <td>False</td>\n",
       "    </tr>\n",
       "    <tr>\n",
       "      <th>4</th>\n",
       "      <td>2015-08-10 19:10:40.650599</td>\n",
       "      <td>849826</td>\n",
       "      <td>experiment</td>\n",
       "      <td>34</td>\n",
       "      <td>False</td>\n",
       "    </tr>\n",
       "  </tbody>\n",
       "</table>\n",
       "</div>"
      ],
      "text/plain": [
       "                    timestamp      id       group  total_days  completed\n",
       "0  2015-08-10 17:06:01.032740  610019  experiment          97       True\n",
       "1  2015-08-10 17:15:28.950975  690224     control          75      False\n",
       "2  2015-08-10 17:34:40.920384  564994  experiment         128       True\n",
       "3  2015-08-10 17:50:39.847374  849588  experiment          66      False\n",
       "4  2015-08-10 19:10:40.650599  849826  experiment          34      False"
      ]
     },
     "execution_count": 71,
     "metadata": {},
     "output_type": "execute_result"
    },
    {
     "data": {
      "application/javascript": [
       "\n",
       "            setTimeout(function() {\n",
       "                var nbb_cell_id = 71;\n",
       "                var nbb_unformatted_code = \"df3.head()\";\n",
       "                var nbb_formatted_code = \"df3.head()\";\n",
       "                var nbb_cells = Jupyter.notebook.get_cells();\n",
       "                for (var i = 0; i < nbb_cells.length; ++i) {\n",
       "                    if (nbb_cells[i].input_prompt_number == nbb_cell_id) {\n",
       "                        if (nbb_cells[i].get_text() == nbb_unformatted_code) {\n",
       "                             nbb_cells[i].set_text(nbb_formatted_code);\n",
       "                        }\n",
       "                        break;\n",
       "                    }\n",
       "                }\n",
       "            }, 500);\n",
       "            "
      ],
      "text/plain": [
       "<IPython.core.display.Javascript object>"
      ]
     },
     "metadata": {},
     "output_type": "display_data"
    }
   ],
   "source": [
    "df3.head()"
   ]
  },
  {
   "cell_type": "code",
   "execution_count": 72,
   "id": "10c70122",
   "metadata": {},
   "outputs": [
    {
     "data": {
      "text/plain": [
       "(0.3719951923076923, 0.3935334872979215)"
      ]
     },
     "execution_count": 72,
     "metadata": {},
     "output_type": "execute_result"
    },
    {
     "data": {
      "application/javascript": [
       "\n",
       "            setTimeout(function() {\n",
       "                var nbb_cell_id = 72;\n",
       "                var nbb_unformatted_code = \"cr_control = df3.query('group== \\\"control\\\"').completed.mean()\\ncr_experiment = df3.query('group== \\\"experiment\\\"').completed.mean()\\ncr_control, cr_experiment\";\n",
       "                var nbb_formatted_code = \"cr_control = df3.query('group== \\\"control\\\"').completed.mean()\\ncr_experiment = df3.query('group== \\\"experiment\\\"').completed.mean()\\ncr_control, cr_experiment\";\n",
       "                var nbb_cells = Jupyter.notebook.get_cells();\n",
       "                for (var i = 0; i < nbb_cells.length; ++i) {\n",
       "                    if (nbb_cells[i].input_prompt_number == nbb_cell_id) {\n",
       "                        if (nbb_cells[i].get_text() == nbb_unformatted_code) {\n",
       "                             nbb_cells[i].set_text(nbb_formatted_code);\n",
       "                        }\n",
       "                        break;\n",
       "                    }\n",
       "                }\n",
       "            }, 500);\n",
       "            "
      ],
      "text/plain": [
       "<IPython.core.display.Javascript object>"
      ]
     },
     "metadata": {},
     "output_type": "display_data"
    }
   ],
   "source": [
    "cr_control = df3.query('group== \"control\"').completed.mean()\n",
    "cr_experiment = df3.query('group== \"experiment\"').completed.mean()\n",
    "cr_control, cr_experiment"
   ]
  },
  {
   "cell_type": "code",
   "execution_count": 73,
   "id": "4094370e",
   "metadata": {},
   "outputs": [
    {
     "data": {
      "text/plain": [
       "0.02153829499022919"
      ]
     },
     "execution_count": 73,
     "metadata": {},
     "output_type": "execute_result"
    },
    {
     "data": {
      "application/javascript": [
       "\n",
       "            setTimeout(function() {\n",
       "                var nbb_cell_id = 73;\n",
       "                var nbb_unformatted_code = \"# Compute observed difference in completion rates\\ncr_diff = cr_experiment - cr_control\\ncr_diff\";\n",
       "                var nbb_formatted_code = \"# Compute observed difference in completion rates\\ncr_diff = cr_experiment - cr_control\\ncr_diff\";\n",
       "                var nbb_cells = Jupyter.notebook.get_cells();\n",
       "                for (var i = 0; i < nbb_cells.length; ++i) {\n",
       "                    if (nbb_cells[i].input_prompt_number == nbb_cell_id) {\n",
       "                        if (nbb_cells[i].get_text() == nbb_unformatted_code) {\n",
       "                             nbb_cells[i].set_text(nbb_formatted_code);\n",
       "                        }\n",
       "                        break;\n",
       "                    }\n",
       "                }\n",
       "            }, 500);\n",
       "            "
      ],
      "text/plain": [
       "<IPython.core.display.Javascript object>"
      ]
     },
     "metadata": {},
     "output_type": "display_data"
    }
   ],
   "source": [
    "# Compute observed difference in completion rates\n",
    "cr_diff = cr_experiment - cr_control\n",
    "cr_diff"
   ]
  },
  {
   "cell_type": "code",
   "execution_count": 74,
   "id": "f619b21f",
   "metadata": {},
   "outputs": [
    {
     "data": {
      "application/javascript": [
       "\n",
       "            setTimeout(function() {\n",
       "                var nbb_cell_id = 74;\n",
       "                var nbb_unformatted_code = \"# Create sampling distribution for difference in completion rates\\n# with boostrapping\\ndiffs = []\\nfor _ in range(10000):\\n    bi_samp = df3.sample(df3.shape[0], replace=True)\\n    cr_control = bi_samp.query('group == \\\"control\\\"').completed.mean()\\n    cr_experiment = bi_samp.query('group == \\\"experiment\\\"').completed.mean()\\n    diffs.append(cr_experiment - cr_control)\";\n",
       "                var nbb_formatted_code = \"# Create sampling distribution for difference in completion rates\\n# with boostrapping\\ndiffs = []\\nfor _ in range(10000):\\n    bi_samp = df3.sample(df3.shape[0], replace=True)\\n    cr_control = bi_samp.query('group == \\\"control\\\"').completed.mean()\\n    cr_experiment = bi_samp.query('group == \\\"experiment\\\"').completed.mean()\\n    diffs.append(cr_experiment - cr_control)\";\n",
       "                var nbb_cells = Jupyter.notebook.get_cells();\n",
       "                for (var i = 0; i < nbb_cells.length; ++i) {\n",
       "                    if (nbb_cells[i].input_prompt_number == nbb_cell_id) {\n",
       "                        if (nbb_cells[i].get_text() == nbb_unformatted_code) {\n",
       "                             nbb_cells[i].set_text(nbb_formatted_code);\n",
       "                        }\n",
       "                        break;\n",
       "                    }\n",
       "                }\n",
       "            }, 500);\n",
       "            "
      ],
      "text/plain": [
       "<IPython.core.display.Javascript object>"
      ]
     },
     "metadata": {},
     "output_type": "display_data"
    }
   ],
   "source": [
    "# Create sampling distribution for difference in completion rates\n",
    "# with boostrapping\n",
    "diffs = []\n",
    "for _ in range(10000):\n",
    "    bi_samp = df3.sample(df3.shape[0], replace=True)\n",
    "    cr_control = bi_samp.query('group == \"control\"').completed.mean()\n",
    "    cr_experiment = bi_samp.query('group == \"experiment\"').completed.mean()\n",
    "    diffs.append(cr_experiment - cr_control)"
   ]
  },
  {
   "cell_type": "code",
   "execution_count": 75,
   "id": "8122b0c6",
   "metadata": {},
   "outputs": [
    {
     "data": {
      "application/javascript": [
       "\n",
       "            setTimeout(function() {\n",
       "                var nbb_cell_id = 75;\n",
       "                var nbb_unformatted_code = \"# convert to numpy array\\ndiffs = np.array(diffs)\";\n",
       "                var nbb_formatted_code = \"# convert to numpy array\\ndiffs = np.array(diffs)\";\n",
       "                var nbb_cells = Jupyter.notebook.get_cells();\n",
       "                for (var i = 0; i < nbb_cells.length; ++i) {\n",
       "                    if (nbb_cells[i].input_prompt_number == nbb_cell_id) {\n",
       "                        if (nbb_cells[i].get_text() == nbb_unformatted_code) {\n",
       "                             nbb_cells[i].set_text(nbb_formatted_code);\n",
       "                        }\n",
       "                        break;\n",
       "                    }\n",
       "                }\n",
       "            }, 500);\n",
       "            "
      ],
      "text/plain": [
       "<IPython.core.display.Javascript object>"
      ]
     },
     "metadata": {},
     "output_type": "display_data"
    }
   ],
   "source": [
    "# convert to numpy array\n",
    "diffs = np.array(diffs)"
   ]
  },
  {
   "cell_type": "code",
   "execution_count": 76,
   "id": "cdd29b3b",
   "metadata": {},
   "outputs": [
    {
     "data": {
      "text/plain": [
       "(array([   5.,   44.,  335., 1316., 2582., 3016., 1917.,  659.,  113.,\n",
       "          13.]),\n",
       " array([-0.04375347, -0.03125949, -0.01876551, -0.00627153,  0.00622244,\n",
       "         0.01871642,  0.0312104 ,  0.04370438,  0.05619836,  0.06869234,\n",
       "         0.08118632]),\n",
       " <BarContainer object of 10 artists>)"
      ]
     },
     "execution_count": 76,
     "metadata": {},
     "output_type": "execute_result"
    },
    {
     "data": {
      "image/png": "[encoded data removed]",
      "text/plain": [
       "<Figure size 640x480 with 1 Axes>"
      ]
     },
     "metadata": {},
     "output_type": "display_data"
    },
    {
     "data": {
      "application/javascript": [
       "\n",
       "            setTimeout(function() {\n",
       "                var nbb_cell_id = 76;\n",
       "                var nbb_unformatted_code = \"# plot distribution\\nplt.hist(diffs)\";\n",
       "                var nbb_formatted_code = \"# plot distribution\\nplt.hist(diffs)\";\n",
       "                var nbb_cells = Jupyter.notebook.get_cells();\n",
       "                for (var i = 0; i < nbb_cells.length; ++i) {\n",
       "                    if (nbb_cells[i].input_prompt_number == nbb_cell_id) {\n",
       "                        if (nbb_cells[i].get_text() == nbb_unformatted_code) {\n",
       "                             nbb_cells[i].set_text(nbb_formatted_code);\n",
       "                        }\n",
       "                        break;\n",
       "                    }\n",
       "                }\n",
       "            }, 500);\n",
       "            "
      ],
      "text/plain": [
       "<IPython.core.display.Javascript object>"
      ]
     },
     "metadata": {},
     "output_type": "display_data"
    }
   ],
   "source": [
    "# plot distribution\n",
    "plt.hist(diffs)"
   ]
  },
  {
   "cell_type": "code",
   "execution_count": null,
   "id": "d855fda0",
   "metadata": {},
   "outputs": [],
   "source": []
  },
  {
   "cell_type": "code",
   "execution_count": 77,
   "id": "0a5f0841",
   "metadata": {},
   "outputs": [
    {
     "data": {
      "application/javascript": [
       "\n",
       "            setTimeout(function() {\n",
       "                var nbb_cell_id = 77;\n",
       "                var nbb_unformatted_code = \"# create distribution under the null hypothesis\\nnull_vals = np.random.normal(0, diffs.std(), diffs.size)\";\n",
       "                var nbb_formatted_code = \"# create distribution under the null hypothesis\\nnull_vals = np.random.normal(0, diffs.std(), diffs.size)\";\n",
       "                var nbb_cells = Jupyter.notebook.get_cells();\n",
       "                for (var i = 0; i < nbb_cells.length; ++i) {\n",
       "                    if (nbb_cells[i].input_prompt_number == nbb_cell_id) {\n",
       "                        if (nbb_cells[i].get_text() == nbb_unformatted_code) {\n",
       "                             nbb_cells[i].set_text(nbb_formatted_code);\n",
       "                        }\n",
       "                        break;\n",
       "                    }\n",
       "                }\n",
       "            }, 500);\n",
       "            "
      ],
      "text/plain": [
       "<IPython.core.display.Javascript object>"
      ]
     },
     "metadata": {},
     "output_type": "display_data"
    }
   ],
   "source": [
    "# create distribution under the null hypothesis\n",
    "null_vals = np.random.normal(0, diffs.std(), diffs.size)"
   ]
  },
  {
   "cell_type": "code",
   "execution_count": 78,
   "id": "c3fbb057",
   "metadata": {},
   "outputs": [
    {
     "data": {
      "text/plain": [
       "<matplotlib.lines.Line2D at 0x7ff0db15df70>"
      ]
     },
     "execution_count": 78,
     "metadata": {},
     "output_type": "execute_result"
    },
    {
     "data": {
      "image/png": "[encoded data removed]",
      "text/plain": [
       "<Figure size 640x480 with 1 Axes>"
      ]
     },
     "metadata": {},
     "output_type": "display_data"
    },
    {
     "data": {
      "application/javascript": [
       "\n",
       "            setTimeout(function() {\n",
       "                var nbb_cell_id = 78;\n",
       "                var nbb_unformatted_code = \"# plot null distribution\\nplt.hist(null_vals)\\n\\n# plot line for observed statistic\\nplt.axvline(x=cr_diff, color=\\\"red\\\")\";\n",
       "                var nbb_formatted_code = \"# plot null distribution\\nplt.hist(null_vals)\\n\\n# plot line for observed statistic\\nplt.axvline(x=cr_diff, color=\\\"red\\\")\";\n",
       "                var nbb_cells = Jupyter.notebook.get_cells();\n",
       "                for (var i = 0; i < nbb_cells.length; ++i) {\n",
       "                    if (nbb_cells[i].input_prompt_number == nbb_cell_id) {\n",
       "                        if (nbb_cells[i].get_text() == nbb_unformatted_code) {\n",
       "                             nbb_cells[i].set_text(nbb_formatted_code);\n",
       "                        }\n",
       "                        break;\n",
       "                    }\n",
       "                }\n",
       "            }, 500);\n",
       "            "
      ],
      "text/plain": [
       "<IPython.core.display.Javascript object>"
      ]
     },
     "metadata": {},
     "output_type": "display_data"
    }
   ],
   "source": [
    "# plot null distribution\n",
    "plt.hist(null_vals)\n",
    "\n",
    "# plot line for observed statistic\n",
    "plt.axvline(x=cr_diff, color=\"red\")"
   ]
  },
  {
   "cell_type": "code",
   "execution_count": 79,
   "id": "38516b26",
   "metadata": {},
   "outputs": [
    {
     "data": {
      "text/plain": [
       "0.0874"
      ]
     },
     "execution_count": 79,
     "metadata": {},
     "output_type": "execute_result"
    },
    {
     "data": {
      "application/javascript": [
       "\n",
       "            setTimeout(function() {\n",
       "                var nbb_cell_id = 79;\n",
       "                var nbb_unformatted_code = \"(null_vals > cr_diff).mean()\";\n",
       "                var nbb_formatted_code = \"(null_vals > cr_diff).mean()\";\n",
       "                var nbb_cells = Jupyter.notebook.get_cells();\n",
       "                for (var i = 0; i < nbb_cells.length; ++i) {\n",
       "                    if (nbb_cells[i].input_prompt_number == nbb_cell_id) {\n",
       "                        if (nbb_cells[i].get_text() == nbb_unformatted_code) {\n",
       "                             nbb_cells[i].set_text(nbb_formatted_code);\n",
       "                        }\n",
       "                        break;\n",
       "                    }\n",
       "                }\n",
       "            }, 500);\n",
       "            "
      ],
      "text/plain": [
       "<IPython.core.display.Javascript object>"
      ]
     },
     "metadata": {},
     "output_type": "display_data"
    }
   ],
   "source": [
    "(null_vals > cr_diff).mean()"
   ]
  },
  {
   "cell_type": "markdown",
   "id": "700339ac",
   "metadata": {},
   "source": [
    "\n",
    "With a type I error rate of 0.05 and a p-value of 0.086, we fail to reject the null hypothesis."
   ]
  },
  {
   "cell_type": "markdown",
   "id": "abaa1d55",
   "metadata": {},
   "source": [
    "### Conclusion: \n",
    "his implies that there is not enough evidence to conclude that the course completion rate increases when using the experimental description on its course overview page at a significance level of 0.05."
   ]
  },
  {
   "cell_type": "markdown",
   "id": "bbcdb736",
   "metadata": {},
   "source": [
    "## Final Remarks: \n",
    "\n",
    "As we expand the number of metrics analyzed in our study, the likelihood of encountering false positives, or Type I errors, also increases. To address this concern, we employ the Bonferroni correction method, which adjusts the alpha level (typically set at 0.05) by dividing it by the number of comparisons being made. This adjustment ensures a more stringent threshold for statistical significance, helping to mitigate the risk of erroneously identifying significant results.\n",
    "\n",
    "Upon computing the p-values for the five metrics in our experiment:\n",
    "\n",
    "- Click Through rate = 0.0003\n",
    "- Enrollment Rate =  0.0188\n",
    "- Average Reading Duration = 0\n",
    "- Average Classroom Time = 0.0384\n",
    "- Completion Rate = 0.0846\n",
    "\n",
    "\n",
    "We apply the Bonferroni correction to adjust the alpha level accordingly. Consequently, we find that the average reading duration metric demonstrates statistically significant results. This indicates that the observed difference in average reading duration between the experimental and control groups remains statistically significant, even after considering the increased likelihood of false positives associated with multiple comparisons.\n",
    "\n"
   ]
  },
  {
   "cell_type": "code",
   "execution_count": null,
   "id": "53c70a2d",
   "metadata": {},
   "outputs": [],
   "source": []
  }
 ],
 "metadata": {
  "kernelspec": {
   "display_name": "Python 3 (ipykernel)",
   "language": "python",
   "name": "python3"
  },
  "language_info": {
   "codemirror_mode": {
    "name": "ipython",
    "version": 3
   },
   "file_extension": ".py",
   "mimetype": "text/x-python",
   "name": "python",
   "nbconvert_exporter": "python",
   "pygments_lexer": "ipython3",
   "version": "3.9.13"
  }
 },
 "nbformat": 4,
 "nbformat_minor": 5
}
